{
 "cells": [
  {
   "cell_type": "code",
   "execution_count": 71,
   "id": "7892ca62-4f40-4b6f-9e99-4aef31fc4061",
   "metadata": {
    "id": "7892ca62-4f40-4b6f-9e99-4aef31fc4061",
    "vscode": {
     "languageId": "r"
    }
   },
   "outputs": [],
   "source": [
    "import pandas as pd\n",
    "import numpy as np\n",
    "import math\n",
    "from sklearn.preprocessing import LabelEncoder\n",
    "from sklearn.model_selection import train_test_split\n",
    "from sklearn.linear_model import LogisticRegression\n",
    "from sklearn.metrics import accuracy_score\n",
    "import matplotlib.pyplot as plt\n",
    "from sklearn.model_selection import train_test_split\n",
    "from sklearn.linear_model import LinearRegression\n",
    "from sklearn.metrics import mean_squared_error\n",
    "from sklearn.tree import DecisionTreeRegressor\n",
    "from sklearn.metrics import mean_squared_error\n",
    "from sklearn.model_selection import cross_val_score\n",
    "from sklearn.metrics import accuracy_score\n",
    "from ast import literal_eval\n",
    "import AI_Proj3"
   ]
  },
  {
   "cell_type": "code",
   "execution_count": 72,
   "id": "5cf099b7-8972-4b36-957d-a4e645749564",
   "metadata": {},
   "outputs": [],
   "source": [
    "label_encoder = LabelEncoder()\n",
    "closed_cells_encoder = LabelEncoder()\n",
    "walls_encoder = LabelEncoder()"
   ]
  },
  {
   "cell_type": "markdown",
   "id": "aa2e2386-8319-4d9e-b286-8465b73c6d10",
   "metadata": {},
   "source": [
    "Functions"
   ]
  },
  {
   "cell_type": "code",
   "execution_count": 73,
   "id": "76935c00-e549-45f7-b94a-8f5e3b2919f2",
   "metadata": {
    "vscode": {
     "languageId": "r"
    }
   },
   "outputs": [],
   "source": [
    "def parse_tuple(cell):\n",
    "    parts = cell.strip('()').split(',')\n",
    "    return tuple(int(part.strip()) for part in parts)\n",
    "\n",
    "def clean_Bot_Move(row, df):\n",
    "    crew_cell = parse_tuple(row['Crew_Cell'])\n",
    "    if crew_cell[0] == 5 and crew_cell[1] == 5:\n",
    "        return None\n",
    "    else:\n",
    "        next_row_index = row.name + 1  # Get the index of the next row\n",
    "        if next_row_index < len(df):\n",
    "            return df.at[next_row_index, 'Bot_Cell']  # Return Bot_Cell value from the next row\n",
    "            \n",
    "def parse_coordinates(coord_str):\n",
    "    if coord_str:\n",
    "        x, y = map(int, coord_str.strip(\"()\").split(\",\"))\n",
    "        return x, y\n",
    "    else:\n",
    "        return None\n",
    "\n",
    "def calculate_direction(row):\n",
    "    bot_cell = parse_coordinates(row['Bot_Cell'])\n",
    "    bot_move = parse_coordinates(row['Bot_Move'])\n",
    "\n",
    "    if bot_cell and bot_move:\n",
    "        delta_x = bot_move[0] - bot_cell[0]\n",
    "        delta_y = bot_move[1] - bot_cell[1]\n",
    "\n",
    "        if delta_x == 0 and delta_y == 0:\n",
    "            return \"No movement\"\n",
    "        elif delta_x == 0:\n",
    "            return \"North\" if delta_y > 0 else \"South\"\n",
    "        elif delta_y == 0:\n",
    "            return \"East\" if delta_x > 0 else \"West\"\n",
    "        elif delta_x > 0:\n",
    "            return \"Northeast\" if delta_y > 0 else \"Southeast\"\n",
    "        else:\n",
    "            return \"Northwest\" if delta_y > 0 else \"Southwest\"\n",
    "    else:\n",
    "        return \"Invalid coordinates\"\n",
    "\n",
    "def map_coordinates_to_integer(row,celltype):\n",
    "    cell = parse_coordinates(row[celltype])\n",
    "    cols = 11\n",
    "    return cell[0] * cols + cell[1] + 1\n",
    "\n",
    "# def parse_wall_coordinates(cell):\n",
    "#     # Remove leading and trailing brackets and split by comma\n",
    "#     cells = cell.strip('[]').split(',')\n",
    "#     coordinates = []\n",
    "#     for cell in cells:\n",
    "#         # Extract coordinates from each cell, remove parentheses, and split by comma\n",
    "#         parts = cell.strip('()').split(',')\n",
    "#         # Convert parts to integers and create tuple\n",
    "#         coordinate = tuple(int(part.strip()) for part in parts if part.strip().isdigit())\n",
    "#         coordinates.append(coordinate)\n",
    "#     return coordinates\n",
    "\n",
    "# def encode_closed_cells(row):\n",
    "#     # Convert string representation of Closed_cells to list of cell tuples\n",
    "#     cells = parse_wall_coordinates(row['Closed_Cells'])\n",
    "#     # Assign a unique identifier to each unique cell\n",
    "#     unique_cells = set(cells)\n",
    "#     cell_mapping = {cell: i for i, cell in enumerate(unique_cells)}\n",
    "#     # Concatenate the identifiers of the cells to form a single encoded value\n",
    "#     encoded_value = ''.join(str(cell_mapping[cell]) for cell in cells)\n",
    "#     return encoded_value\n",
    "\n",
    "\n",
    "# def parse_wall_coordinates(cell):\n",
    "#     # Remove leading and trailing brackets and split by comma\n",
    "#     cells = cell.strip('[]').split(',')\n",
    "#     coordinates = []\n",
    "#     for cell in cells:\n",
    "#         # Extract coordinates from each cell, remove parentheses, and split by comma\n",
    "#         parts = cell.strip('()').split(',')\n",
    "#         # Convert parts to integers and create tuple\n",
    "#         coordinate = tuple(int(part.strip()) for part in parts if part.strip().isdigit())\n",
    "#         coordinates.append(coordinate)\n",
    "#     return coordinates\n",
    "\n",
    "# def encode_closed_cells(cells):\n",
    "#     # Assign a unique identifier to each unique cell\n",
    "#     unique_cells = set(cells)\n",
    "#     cell_mapping = {cell: i for i, cell in enumerate(unique_cells)}\n",
    "#     # Concatenate the identifiers of the cells to form a single encoded value\n",
    "#     encoded_value = ''.join(str(cell_mapping[cell]) for cell in cells)\n",
    "#     return encoded_value\n",
    "    \n",
    "# def encode_wall_cells(row):\n",
    "#     # Convert string representation of Closed_cells to list of cell tuples\n",
    "#     cells = parse_wall_coordinates(row['Walls'])\n",
    "#     # Assign a unique identifier to each unique cell\n",
    "#     unique_cells = set(cells)\n",
    "#     cell_mapping = {cell: i for i, cell in enumerate(unique_cells)}\n",
    "#     # Concatenate the identifiers of the cells to form a single encoded value\n",
    "#     encoded_value = ''.join(str(cell_mapping[cell]) for cell in cells)\n",
    "#     return encoded_value\n",
    "\n",
    "def encode_list_of_tuples(lst):\n",
    "    return ','.join([str(x) for x in lst])\n",
    "\n",
    "def convert_tuples(cell):\n",
    "    return literal_eval(cell)\n",
    "\n",
    "def lengthSquare(X, Y):\n",
    "    xDiff = X[0] - Y[0]\n",
    "    yDiff = X[1] - Y[1]\n",
    "    return xDiff * xDiff + yDiff * yDiff\n",
    "\n",
    "def getAngle(a, b):\n",
    "    c = (5, 5)\n",
    "    a2 = lengthSquare(a, c)\n",
    "    b2 = lengthSquare(b, c)\n",
    "    c2 = lengthSquare(a, b)\n",
    "    return math.acos((a2 + b2 - c2) / (2 * math.sqrt(a2) * math.sqrt(b2)))#(math.acos((a2 + b2 - c2) / (2 * math.sqrt(a2) * math.sqrt(b2))) * 180 / math.pi);\n",
    "\n",
    "def parse_angles(row):\n",
    "    crew_cell = parse_tuple(row['Crew_Cell'])\n",
    "    bot_cell = parse_tuple(row['Bot_Cell'])\n",
    "    return getAngle(bot_cell, crew_cell)"
   ]
  },
  {
   "cell_type": "markdown",
   "id": "31c03c41-4776-41d9-a642-5a08d4a3ccf2",
   "metadata": {
    "id": "31c03c41-4776-41d9-a642-5a08d4a3ccf2"
   },
   "source": [
    "READ AND PREPROCESS DATA"
   ]
  },
  {
   "cell_type": "code",
   "execution_count": 74,
   "id": "b9b80195-bf7e-42b6-bfcc-7ee4e2689279",
   "metadata": {
    "id": "b9b80195-bf7e-42b6-bfcc-7ee4e2689279",
    "vscode": {
     "languageId": "r"
    }
   },
   "outputs": [],
   "source": [
    "def process_data():\n",
    "    df =pd.read_csv(\"walloutput.csv\")\n",
    "    # Extract x, y, p, and q values from the existing columns\n",
    "    df['bot_x'] = df['Bot_Cell'].apply(lambda x: int(x.split(',')[0].strip('()')))\n",
    "    df['bot_y'] = df['Bot_Cell'].apply(lambda x: int(x.split(',')[1].strip('()')))\n",
    "    df['crew_x'] = df['Crew_Cell'].apply(lambda x: int(x.split(',')[0].strip('()')))\n",
    "    df['crew_y'] = df['Crew_Cell'].apply(lambda x: int(x.split(',')[1].strip('()')))\n",
    "\n",
    "# Calculate the distance\n",
    "    df['Distance_from_bot_to_crew'] = abs(df['bot_x'] - df['crew_x']) + abs(df['bot_y'] - df['crew_y'])\n",
    "    # df['Distance_from_bot_to_teleport'] = abs(df['bot_x'] - 5) + abs(df['bot_y'] - 5)\n",
    "    # df['Distance_from_crew_to_teleport'] = abs(5 - df['crew_x']) + abs(5 - df['crew_y'])\n",
    "\n",
    "#Drop the intermediate columns x, y, p, and q if needed\n",
    "    df.drop(['crew_x', 'crew_y', 'bot_x', 'bot_y'], axis=1, inplace=True)\n",
    "    df['Bot_Move'] = df['Bot_Cell'].shift(-1)\n",
    "    df['Bot_Move'] = df.apply(lambda row: clean_Bot_Move(row, df), axis=1)\n",
    "    df =df.dropna()\n",
    "    #df['Direction_of_Bot'] = df.apply(lambda row: calculate_direction(row), axis=1)\n",
    "\n",
    "    df[\"Bot_Cell_Encoded\"] = df.apply(lambda row: map_coordinates_to_integer(row,\"Bot_Cell\"), axis=1)\n",
    "    df[\"Crew_Cell_Encoded\"] = df.apply(lambda row: map_coordinates_to_integer(row,\"Crew_Cell\"), axis=1)\n",
    "    df[\"Bot_Move_Encoded\"] = df.apply(lambda row: map_coordinates_to_integer(row,\"Bot_Move\"), axis=1)\n",
    "    # df['Closed_Encoded_value'] = df.apply(encode_closed_cells, axis=1)\n",
    "    # df['Wall_encoded'] = df.apply(encode_wall_cells,axis=1)\n",
    "    # df['Closed_Encoded_value'] = df['Closed_Cells'].apply(parse_wall_coordinates).apply(encode_closed_cells)\n",
    "    # df['Wall_Encoded_value'] = df['Walls'].apply(parse_wall_coordinates).apply(encode_closed_cells)\n",
    "    df['Closed_Cells_Encoded'] = df['Closed_Cells'].apply(encode_list_of_tuples)\n",
    "    df['Closed_Cells_Encoded'] = closed_cells_encoder.fit_transform(df['Closed_Cells_Encoded'])\n",
    "    df['Walls_Encoded'] = df['Walls'].apply(encode_list_of_tuples)\n",
    "    df['Walls_Encoded'] = walls_encoder.fit_transform(df['Walls_Encoded'])\n",
    "\n",
    "    label_encoded_df = df.copy()\n",
    "    # if label_encoded_df[\"Direction_of_Bot\"].dtype == 'object':\n",
    "    #     label_encoded_df[\"Direction_of_Bot\"] = label_encoder.fit_transform(label_encoded_df[\"Direction_of_Bot\"])\n",
    "    \n",
    "    label_encoded_df = label_encoded_df.drop('Bot_Cell',axis =1)\n",
    "    label_encoded_df = label_encoded_df.drop('Crew_Cell',axis =1)\n",
    "    label_encoded_df = label_encoded_df.drop('Bot_Move',axis =1)\n",
    "    label_encoded_df = label_encoded_df.drop('Closed_Cells',axis =1)\n",
    "    label_encoded_df = label_encoded_df.drop('Walls',axis =1)\n",
    "    # label_encoded_df = label_encoded_df.drop(\"Distance_from_bot_to_teleport\",axis=1)\n",
    "    # label_encoded_df = label_encoded_df.drop(\"Distance_from_crew_to_teleport\",axis=1)\n",
    "    # label_encoded_df = label_encoded_df.drop(\"Direction_of_Bot\",axis=1)\n",
    "\n",
    "\n",
    "    return label_encoded_df"
   ]
  },
  {
   "cell_type": "markdown",
   "id": "8fd883b8-8cda-4d59-9585-8adb1db66b42",
   "metadata": {
    "id": "8fd883b8-8cda-4d59-9585-8adb1db66b42"
   },
   "source": [
    "TRAIN TEST SPLIT"
   ]
  },
  {
   "cell_type": "code",
   "execution_count": 75,
   "id": "646ffb8f-93fc-455c-ab69-2282424043e1",
   "metadata": {
    "id": "646ffb8f-93fc-455c-ab69-2282424043e1",
    "vscode": {
     "languageId": "r"
    }
   },
   "outputs": [],
   "source": [
    "def train_data(data):\n",
    "    final_data = data.copy()\n",
    "    final_data = final_data.dropna()\n",
    "    X = final_data.drop('Bot_Move_Encoded', axis=1)\n",
    "    y = final_data['Bot_Move_Encoded']\n",
    "    X_train, X_test, y_train, y_test = train_test_split(X, y, test_size=0.2, random_state=42)\n",
    "    return X_train, X_test, y_train, y_test"
   ]
  },
  {
   "cell_type": "markdown",
   "id": "c94c1725-4f74-4038-846e-00f0e35d605b",
   "metadata": {
    "id": "c94c1725-4f74-4038-846e-00f0e35d605b"
   },
   "source": [
    "MODELS"
   ]
  },
  {
   "cell_type": "markdown",
   "id": "d1deaca1-c58b-4875-bce6-60e0768456af",
   "metadata": {
    "id": "d1deaca1-c58b-4875-bce6-60e0768456af"
   },
   "source": [
    "LINEAR REGRESSION"
   ]
  },
  {
   "cell_type": "code",
   "execution_count": 76,
   "id": "8afd5242-c635-402b-8f9d-4dfd34fb90bf",
   "metadata": {
    "colab": {
     "base_uri": "https://localhost:8080/"
    },
    "id": "8afd5242-c635-402b-8f9d-4dfd34fb90bf",
    "outputId": "2adc92d6-f80c-4928-f6d7-9e732688cfab",
    "vscode": {
     "languageId": "r"
    }
   },
   "outputs": [],
   "source": [
    "def Linear_Regression_Model(X_train, X_test, y_train, y_test):\n",
    "    model = LinearRegression()\n",
    "    model.fit(X_train, y_train)\n",
    "    y_pred = model.predict(X_test)\n",
    "    return y_test, y_pred, X_train,model"
   ]
  },
  {
   "cell_type": "markdown",
   "id": "7f91a563-7778-4b7c-9eb7-22f12b9cebe1",
   "metadata": {
    "id": "7f91a563-7778-4b7c-9eb7-22f12b9cebe1"
   },
   "source": [
    "DECISION TREE REGRESSOR"
   ]
  },
  {
   "cell_type": "code",
   "execution_count": 77,
   "id": "2b2d2a53-f525-425b-9e65-2706b9b60b6b",
   "metadata": {
    "colab": {
     "base_uri": "https://localhost:8080/"
    },
    "id": "2b2d2a53-f525-425b-9e65-2706b9b60b6b",
    "outputId": "c2d23abf-f18c-429a-fba7-29ae0237932b",
    "vscode": {
     "languageId": "r"
    }
   },
   "outputs": [],
   "source": [
    "def Decision_Tree_Regressor(X_train, X_test, y_train, y_test):\n",
    "    model = DecisionTreeRegressor()\n",
    "    model.fit(X_train, y_train)\n",
    "    y_pred = model.predict(X_test)\n",
    "    return y_test, y_pred, X_train,model"
   ]
  },
  {
   "cell_type": "markdown",
   "id": "b732175a-68a7-44ae-a285-7987236b3d13",
   "metadata": {},
   "source": [
    "Accuracy"
   ]
  },
  {
   "cell_type": "code",
   "execution_count": 78,
   "id": "623fc7c0-a2cf-4745-aacd-d0fa667ff6fc",
   "metadata": {
    "vscode": {
     "languageId": "r"
    }
   },
   "outputs": [],
   "source": [
    "def reg_metrics(y_test, y_pred, X_train):\n",
    "    from sklearn.metrics import mean_squared_error, r2_score \n",
    "\n",
    "    rmse = np.sqrt(mean_squared_error(y_test,y_pred))\n",
    "    r2 = r2_score(y_test,y_pred)\n",
    "    n = y_pred.shape[0]\n",
    "    k = X_train.shape[1]\n",
    "    adj_r_sq = 1 - (1 - r2)*(n-1)/(n-1-k)\n",
    "    print(\"rmse:\", rmse)\n",
    "    print(\"r2:\", r2)\n",
    "    print(\"adj_r_sq:\", adj_r_sq)"
   ]
  },
  {
   "cell_type": "code",
   "execution_count": 79,
   "id": "70875655-6640-407f-9b54-c55e26eaf867",
   "metadata": {
    "vscode": {
     "languageId": "r"
    }
   },
   "outputs": [],
   "source": [
    "def create_model(n):\n",
    "    data  = process_data()\n",
    "    X_train, X_test, y_train, y_test = train_data(data)\n",
    "    print(X_train)\n",
    "    if n == 1:\n",
    "        y_test, y_pred, X_train,model = Decision_Tree_Regressor(X_train, X_test, y_train, y_test)\n",
    "    else:\n",
    "        y_test, y_pred, X_train,model = Linear_Regression_Model(X_train, X_test, y_train, y_test)\n",
    "    print(reg_metrics(y_test, y_pred, X_train))\n",
    "    return model\n",
    "        \n",
    "        \n",
    "        "
   ]
  },
  {
   "cell_type": "code",
   "execution_count": 80,
   "id": "eeff31da-c925-469a-ae45-d871009c08c2",
   "metadata": {
    "vscode": {
     "languageId": "r"
    }
   },
   "outputs": [],
   "source": [
    "def predict_model(model,input):\n",
    "    Xnew = input\n",
    "    ynew = model.predict(Xnew)\n",
    "    return int(ynew)"
   ]
  },
  {
   "cell_type": "code",
   "execution_count": 81,
   "id": "79d2711d-1a48-48b3-8099-448e49dd8c38",
   "metadata": {
    "vscode": {
     "languageId": "r"
    }
   },
   "outputs": [
    {
     "name": "stdout",
     "output_type": "stream",
     "text": [
      "      Distance_from_bot_to_crew  Bot_Cell_Encoded  Crew_Cell_Encoded  \\\n",
      "589                           2                10                 20   \n",
      "3487                          2                91                 79   \n",
      "356                           3                50                 27   \n",
      "3507                          2                41                 63   \n",
      "1653                          3                57                 78   \n",
      "...                         ...               ...                ...   \n",
      "1171                          1                43                 42   \n",
      "1340                          2                31                 43   \n",
      "890                           2                93                 83   \n",
      "3611                          2                18                 16   \n",
      "3268                          2                36                 26   \n",
      "\n",
      "      Closed_Cells_Encoded  Walls_Encoded  \n",
      "589                      0             41  \n",
      "3487                     0              6  \n",
      "356                      0             85  \n",
      "3507                     0              6  \n",
      "1653                     0             84  \n",
      "...                    ...            ...  \n",
      "1171                     0             77  \n",
      "1340                     0             83  \n",
      "890                      0             92  \n",
      "3611                     0             69  \n",
      "3268                     0             52  \n",
      "\n",
      "[2928 rows x 5 columns]\n",
      "rmse: 4.967699212982654\n",
      "r2: 0.9760922644024745\n",
      "adj_r_sq: 0.9759278370599881\n",
      "None\n",
      "80\n"
     ]
    },
    {
     "name": "stderr",
     "output_type": "stream",
     "text": [
      "C:\\Users\\shara\\anaconda3\\envs\\MachineLearning\\Lib\\site-packages\\sklearn\\base.py:465: UserWarning: X does not have valid feature names, but DecisionTreeRegressor was fitted with feature names\n",
      "  warnings.warn(\n",
      "C:\\Users\\shara\\AppData\\Local\\Temp\\ipykernel_22548\\3237992487.py:4: DeprecationWarning: Conversion of an array with ndim > 0 to a scalar is deprecated, and will error in future. Ensure you extract a single element from your array before performing this operation. (Deprecated NumPy 1.25.)\n",
      "  return int(ynew)\n"
     ]
    }
   ],
   "source": [
    "model = create_model(1)\n",
    "X_new = [[2,91,79,2210121,17636264606463686560 ]]\n",
    "op = predict_model(model,X_new)\n",
    "print(op)\n"
   ]
  },
  {
   "cell_type": "markdown",
   "id": "2b206e99",
   "metadata": {},
   "source": [
    "SOLVE THE GRID"
   ]
  },
  {
   "cell_type": "code",
   "execution_count": 86,
   "id": "37f06491-f912-47db-ab47-1410766f1684",
   "metadata": {
    "vscode": {
     "languageId": "r"
    }
   },
   "outputs": [],
   "source": [
    "def Ai_bot(model):\n",
    "    ship = AI_Proj3.SHIP()\n",
    "    cols = 11\n",
    "    steps = 0\n",
    "    while ship.crew_pos != ship.teleport_cell :\n",
    "        steps+=1\n",
    "        crew_pos = ship.bot_pos\n",
    "        bot_pos = ship.crew_pos\n",
    "        cols = ship.size\n",
    "        distance = abs(crew_pos[0] - bot_pos[0]) + abs(crew_pos[1] -  bot_pos[1])\n",
    "        crew_pos_encoded = crew_pos[0] * cols + crew_pos[1] + 1\n",
    "        bot_pos_encoded =  crew_pos[0] * cols + crew_pos[1] + 1\n",
    "        closed_walls = ship.closed_cells\n",
    "        closed_encode = encode_list_of_tuples(closed_cells)\n",
    "        closed_encode = walls_encoder.fit_transform([closed_encode])\n",
    "        wall = ship.walls\n",
    "        walls = encode_list_of_tuples(wall)\n",
    "        walls_encoded = walls_encoder.fit_transform([walls])\n",
    "        X_input = [[distance,bot_pos_encoded,crew_pos_encoded,closed_encode,walls_encoded]]\n",
    "        op = predict_model(model,X_new)\n",
    "        bot_x = (op - 1) % 11\n",
    "        bot_y = (op - 1) // 11\n",
    "        ship.bot_pos = (bot_x,bot_y)\n",
    "        ship.move_crew()\n",
    "    print(steps)\n",
    "        \n",
    "\n",
    "        \n",
    "        \n",
    "            \n",
    "            "
   ]
  },
  {
   "cell_type": "code",
   "execution_count": 83,
   "id": "2c01ff02-b52b-4120-8978-8867c760407e",
   "metadata": {},
   "outputs": [],
   "source": [
    "# def encode_closed_cells(cells):\n",
    "#     # Assign a unique identifier to each unique cell\n",
    "#     unique_cells = set(cells)\n",
    "#     cell_mapping = {cell: i for i, cell in enumerate(unique_cells)}\n",
    "#     # Concatenate the identifiers of the cells to form a single encoded value\n",
    "#     encoded_value = ''.join(str(cell_mapping[cell]) for cell in cells)\n",
    "#     return encoded_value"
   ]
  },
  {
   "cell_type": "code",
   "execution_count": 101,
   "id": "eceb7d5e-0bcd-4086-bd29-8876c7ac4b94",
   "metadata": {},
   "outputs": [
    {
     "name": "stdout",
     "output_type": "stream",
     "text": [
      "117\n",
      "107\n"
     ]
    },
    {
     "name": "stderr",
     "output_type": "stream",
     "text": [
      "C:\\Users\\shara\\anaconda3\\envs\\MachineLearning\\Lib\\site-packages\\sklearn\\base.py:465: UserWarning: X does not have valid feature names, but DecisionTreeRegressor was fitted with feature names\n",
      "  warnings.warn(\n",
      "C:\\Users\\shara\\AppData\\Local\\Temp\\ipykernel_22548\\3237992487.py:4: DeprecationWarning: Conversion of an array with ndim > 0 to a scalar is deprecated, and will error in future. Ensure you extract a single element from your array before performing this operation. (Deprecated NumPy 1.25.)\n",
      "  return int(ynew)\n"
     ]
    }
   ],
   "source": [
    "ship= AI_Proj3.SHIP()\n",
    "crew_pos = ship.bot_pos\n",
    "bot_pos = ship.crew_pos\n",
    "cols = ship.size\n",
    "distance = abs(crew_pos[0] - bot_pos[0]) + abs(crew_pos[1] -  bot_pos[1])\n",
    "crew_pos_encoded = crew_pos[0] * cols + crew_pos[1] + 1\n",
    "bot_pos_encoded =  bot_pos[0] * cols + bot_pos[1] + 1\n",
    "closed_walls = ship.closed_cells\n",
    "closed_encode = encode_list_of_tuples(closed_cells)\n",
    "closed_encode = closed_cells_encoder.fit_transform([closed_encode])\n",
    "wall = ship.walls\n",
    "walls = encode_list_of_tuples(walls)\n",
    "walls_encoded = walls_encoder.fit_transform([walls])\n",
    "\n",
    "\n",
    "print(bot_pos_encoded)\n",
    "\n",
    "X_input = [[distance,bot_pos_encoded,crew_pos_encoded,closed_encode[0],walls_encoded[0]]]\n",
    "op = predict_model(model,X_input)\n",
    "print(op)\n"
   ]
  },
  {
   "cell_type": "code",
   "execution_count": 90,
   "id": "33129523-3176-4212-8490-44c27df8bd1f",
   "metadata": {},
   "outputs": [
    {
     "name": "stderr",
     "output_type": "stream",
     "text": [
      "C:\\Users\\shara\\anaconda3\\envs\\MachineLearning\\Lib\\site-packages\\sklearn\\base.py:465: UserWarning: X does not have valid feature names, but DecisionTreeRegressor was fitted with feature names\n",
      "  warnings.warn(\n"
     ]
    },
    {
     "ename": "ValueError",
     "evalue": "setting an array element with a sequence. The requested array has an inhomogeneous shape after 2 dimensions. The detected shape was (1, 5) + inhomogeneous part.",
     "output_type": "error",
     "traceback": [
      "\u001b[1;31m---------------------------------------------------------------------------\u001b[0m",
      "\u001b[1;31mValueError\u001b[0m                                Traceback (most recent call last)",
      "Cell \u001b[1;32mIn[90], line 16\u001b[0m\n\u001b[0;32m     14\u001b[0m walls_encoded \u001b[38;5;241m=\u001b[39m walls_encoder\u001b[38;5;241m.\u001b[39mfit_transform([walls])\n\u001b[0;32m     15\u001b[0m X_input \u001b[38;5;241m=\u001b[39m [[distance,bot_pos_encoded,crew_pos_encoded,closed_encode,walls_encoded]]\n\u001b[1;32m---> 16\u001b[0m op \u001b[38;5;241m=\u001b[39m predict_model(model,X_input)\n\u001b[0;32m     17\u001b[0m bot_x \u001b[38;5;241m=\u001b[39m (op \u001b[38;5;241m-\u001b[39m \u001b[38;5;241m1\u001b[39m) \u001b[38;5;241m%\u001b[39m \u001b[38;5;241m11\u001b[39m\n\u001b[0;32m     18\u001b[0m bot_y \u001b[38;5;241m=\u001b[39m (op \u001b[38;5;241m-\u001b[39m \u001b[38;5;241m1\u001b[39m) \u001b[38;5;241m/\u001b[39m\u001b[38;5;241m/\u001b[39m \u001b[38;5;241m11\u001b[39m\n",
      "Cell \u001b[1;32mIn[80], line 3\u001b[0m, in \u001b[0;36mpredict_model\u001b[1;34m(model, input)\u001b[0m\n\u001b[0;32m      1\u001b[0m \u001b[38;5;28;01mdef\u001b[39;00m \u001b[38;5;21mpredict_model\u001b[39m(model,\u001b[38;5;28minput\u001b[39m):\n\u001b[0;32m      2\u001b[0m     Xnew \u001b[38;5;241m=\u001b[39m \u001b[38;5;28minput\u001b[39m\n\u001b[1;32m----> 3\u001b[0m     ynew \u001b[38;5;241m=\u001b[39m model\u001b[38;5;241m.\u001b[39mpredict(Xnew)\n\u001b[0;32m      4\u001b[0m     \u001b[38;5;28;01mreturn\u001b[39;00m \u001b[38;5;28mint\u001b[39m(ynew)\n",
      "File \u001b[1;32m~\\anaconda3\\envs\\MachineLearning\\Lib\\site-packages\\sklearn\\tree\\_classes.py:500\u001b[0m, in \u001b[0;36mBaseDecisionTree.predict\u001b[1;34m(self, X, check_input)\u001b[0m\n\u001b[0;32m    477\u001b[0m \u001b[38;5;250m\u001b[39m\u001b[38;5;124;03m\"\"\"Predict class or regression value for X.\u001b[39;00m\n\u001b[0;32m    478\u001b[0m \n\u001b[0;32m    479\u001b[0m \u001b[38;5;124;03mFor a classification model, the predicted class for each sample in X is\u001b[39;00m\n\u001b[1;32m   (...)\u001b[0m\n\u001b[0;32m    497\u001b[0m \u001b[38;5;124;03m    The predicted classes, or the predict values.\u001b[39;00m\n\u001b[0;32m    498\u001b[0m \u001b[38;5;124;03m\"\"\"\u001b[39;00m\n\u001b[0;32m    499\u001b[0m check_is_fitted(\u001b[38;5;28mself\u001b[39m)\n\u001b[1;32m--> 500\u001b[0m X \u001b[38;5;241m=\u001b[39m \u001b[38;5;28mself\u001b[39m\u001b[38;5;241m.\u001b[39m_validate_X_predict(X, check_input)\n\u001b[0;32m    501\u001b[0m proba \u001b[38;5;241m=\u001b[39m \u001b[38;5;28mself\u001b[39m\u001b[38;5;241m.\u001b[39mtree_\u001b[38;5;241m.\u001b[39mpredict(X)\n\u001b[0;32m    502\u001b[0m n_samples \u001b[38;5;241m=\u001b[39m X\u001b[38;5;241m.\u001b[39mshape[\u001b[38;5;241m0\u001b[39m]\n",
      "File \u001b[1;32m~\\anaconda3\\envs\\MachineLearning\\Lib\\site-packages\\sklearn\\tree\\_classes.py:460\u001b[0m, in \u001b[0;36mBaseDecisionTree._validate_X_predict\u001b[1;34m(self, X, check_input)\u001b[0m\n\u001b[0;32m    458\u001b[0m \u001b[38;5;28;01melse\u001b[39;00m:\n\u001b[0;32m    459\u001b[0m     force_all_finite \u001b[38;5;241m=\u001b[39m \u001b[38;5;28;01mTrue\u001b[39;00m\n\u001b[1;32m--> 460\u001b[0m X \u001b[38;5;241m=\u001b[39m \u001b[38;5;28mself\u001b[39m\u001b[38;5;241m.\u001b[39m_validate_data(\n\u001b[0;32m    461\u001b[0m     X,\n\u001b[0;32m    462\u001b[0m     dtype\u001b[38;5;241m=\u001b[39mDTYPE,\n\u001b[0;32m    463\u001b[0m     accept_sparse\u001b[38;5;241m=\u001b[39m\u001b[38;5;124m\"\u001b[39m\u001b[38;5;124mcsr\u001b[39m\u001b[38;5;124m\"\u001b[39m,\n\u001b[0;32m    464\u001b[0m     reset\u001b[38;5;241m=\u001b[39m\u001b[38;5;28;01mFalse\u001b[39;00m,\n\u001b[0;32m    465\u001b[0m     force_all_finite\u001b[38;5;241m=\u001b[39mforce_all_finite,\n\u001b[0;32m    466\u001b[0m )\n\u001b[0;32m    467\u001b[0m \u001b[38;5;28;01mif\u001b[39;00m issparse(X) \u001b[38;5;129;01mand\u001b[39;00m (\n\u001b[0;32m    468\u001b[0m     X\u001b[38;5;241m.\u001b[39mindices\u001b[38;5;241m.\u001b[39mdtype \u001b[38;5;241m!=\u001b[39m np\u001b[38;5;241m.\u001b[39mintc \u001b[38;5;129;01mor\u001b[39;00m X\u001b[38;5;241m.\u001b[39mindptr\u001b[38;5;241m.\u001b[39mdtype \u001b[38;5;241m!=\u001b[39m np\u001b[38;5;241m.\u001b[39mintc\n\u001b[0;32m    469\u001b[0m ):\n\u001b[0;32m    470\u001b[0m     \u001b[38;5;28;01mraise\u001b[39;00m \u001b[38;5;167;01mValueError\u001b[39;00m(\u001b[38;5;124m\"\u001b[39m\u001b[38;5;124mNo support for np.int64 index based sparse matrices\u001b[39m\u001b[38;5;124m\"\u001b[39m)\n",
      "File \u001b[1;32m~\\anaconda3\\envs\\MachineLearning\\Lib\\site-packages\\sklearn\\base.py:605\u001b[0m, in \u001b[0;36mBaseEstimator._validate_data\u001b[1;34m(self, X, y, reset, validate_separately, cast_to_ndarray, **check_params)\u001b[0m\n\u001b[0;32m    603\u001b[0m         out \u001b[38;5;241m=\u001b[39m X, y\n\u001b[0;32m    604\u001b[0m \u001b[38;5;28;01melif\u001b[39;00m \u001b[38;5;129;01mnot\u001b[39;00m no_val_X \u001b[38;5;129;01mand\u001b[39;00m no_val_y:\n\u001b[1;32m--> 605\u001b[0m     out \u001b[38;5;241m=\u001b[39m check_array(X, input_name\u001b[38;5;241m=\u001b[39m\u001b[38;5;124m\"\u001b[39m\u001b[38;5;124mX\u001b[39m\u001b[38;5;124m\"\u001b[39m, \u001b[38;5;241m*\u001b[39m\u001b[38;5;241m*\u001b[39mcheck_params)\n\u001b[0;32m    606\u001b[0m \u001b[38;5;28;01melif\u001b[39;00m no_val_X \u001b[38;5;129;01mand\u001b[39;00m \u001b[38;5;129;01mnot\u001b[39;00m no_val_y:\n\u001b[0;32m    607\u001b[0m     out \u001b[38;5;241m=\u001b[39m _check_y(y, \u001b[38;5;241m*\u001b[39m\u001b[38;5;241m*\u001b[39mcheck_params)\n",
      "File \u001b[1;32m~\\anaconda3\\envs\\MachineLearning\\Lib\\site-packages\\sklearn\\utils\\validation.py:915\u001b[0m, in \u001b[0;36mcheck_array\u001b[1;34m(array, accept_sparse, accept_large_sparse, dtype, order, copy, force_all_finite, ensure_2d, allow_nd, ensure_min_samples, ensure_min_features, estimator, input_name)\u001b[0m\n\u001b[0;32m    913\u001b[0m         array \u001b[38;5;241m=\u001b[39m xp\u001b[38;5;241m.\u001b[39mastype(array, dtype, copy\u001b[38;5;241m=\u001b[39m\u001b[38;5;28;01mFalse\u001b[39;00m)\n\u001b[0;32m    914\u001b[0m     \u001b[38;5;28;01melse\u001b[39;00m:\n\u001b[1;32m--> 915\u001b[0m         array \u001b[38;5;241m=\u001b[39m _asarray_with_order(array, order\u001b[38;5;241m=\u001b[39morder, dtype\u001b[38;5;241m=\u001b[39mdtype, xp\u001b[38;5;241m=\u001b[39mxp)\n\u001b[0;32m    916\u001b[0m \u001b[38;5;28;01mexcept\u001b[39;00m ComplexWarning \u001b[38;5;28;01mas\u001b[39;00m complex_warning:\n\u001b[0;32m    917\u001b[0m     \u001b[38;5;28;01mraise\u001b[39;00m \u001b[38;5;167;01mValueError\u001b[39;00m(\n\u001b[0;32m    918\u001b[0m         \u001b[38;5;124m\"\u001b[39m\u001b[38;5;124mComplex data not supported\u001b[39m\u001b[38;5;130;01m\\n\u001b[39;00m\u001b[38;5;132;01m{}\u001b[39;00m\u001b[38;5;130;01m\\n\u001b[39;00m\u001b[38;5;124m\"\u001b[39m\u001b[38;5;241m.\u001b[39mformat(array)\n\u001b[0;32m    919\u001b[0m     ) \u001b[38;5;28;01mfrom\u001b[39;00m \u001b[38;5;21;01mcomplex_warning\u001b[39;00m\n",
      "File \u001b[1;32m~\\anaconda3\\envs\\MachineLearning\\Lib\\site-packages\\sklearn\\utils\\_array_api.py:380\u001b[0m, in \u001b[0;36m_asarray_with_order\u001b[1;34m(array, dtype, order, copy, xp)\u001b[0m\n\u001b[0;32m    378\u001b[0m     array \u001b[38;5;241m=\u001b[39m numpy\u001b[38;5;241m.\u001b[39marray(array, order\u001b[38;5;241m=\u001b[39morder, dtype\u001b[38;5;241m=\u001b[39mdtype)\n\u001b[0;32m    379\u001b[0m \u001b[38;5;28;01melse\u001b[39;00m:\n\u001b[1;32m--> 380\u001b[0m     array \u001b[38;5;241m=\u001b[39m numpy\u001b[38;5;241m.\u001b[39masarray(array, order\u001b[38;5;241m=\u001b[39morder, dtype\u001b[38;5;241m=\u001b[39mdtype)\n\u001b[0;32m    382\u001b[0m \u001b[38;5;66;03m# At this point array is a NumPy ndarray. We convert it to an array\u001b[39;00m\n\u001b[0;32m    383\u001b[0m \u001b[38;5;66;03m# container that is consistent with the input's namespace.\u001b[39;00m\n\u001b[0;32m    384\u001b[0m \u001b[38;5;28;01mreturn\u001b[39;00m xp\u001b[38;5;241m.\u001b[39masarray(array)\n",
      "\u001b[1;31mValueError\u001b[0m: setting an array element with a sequence. The requested array has an inhomogeneous shape after 2 dimensions. The detected shape was (1, 5) + inhomogeneous part."
     ]
    }
   ],
   "source": [
    "ship = AI_Proj3.SHIP()\n",
    "for _ in range(10):\n",
    "        crew_pos = ship.bot_pos\n",
    "        bot_pos = ship.crew_pos\n",
    "        cols = ship.size\n",
    "        distance = abs(crew_pos[0] - bot_pos[0]) + abs(crew_pos[1] -  bot_pos[1])\n",
    "        crew_pos_encoded = crew_pos[0] * cols + crew_pos[1] + 1\n",
    "        bot_pos_encoded =  crew_pos[0] * cols + crew_pos[1] + 1\n",
    "        closed_walls = ship.closed_cells\n",
    "        closed_encode = encode_list_of_tuples(closed_cells)\n",
    "        closed_encode = walls_encoder.fit_transform([closed_encode])\n",
    "        wall = ship.walls\n",
    "        walls = encode_list_of_tuples(wall)\n",
    "        walls_encoded = walls_encoder.fit_transform([walls])\n",
    "        X_input = [[distance,bot_pos_encoded,crew_pos_encoded,closed_encode,walls_encoded]]\n",
    "        op = predict_model(model,X_input)\n",
    "        bot_x = (op - 1) % 11\n",
    "        bot_y = (op - 1) // 11\n",
    "        ship.bot_pos = (bot_x,bot_y)\n",
    "        print(ship.bot_pos)\n",
    "    "
   ]
  },
  {
   "cell_type": "code",
   "execution_count": 87,
   "id": "a1686b9c-a9d0-45e6-b977-0a31f805e1a5",
   "metadata": {},
   "outputs": [
    {
     "name": "stderr",
     "output_type": "stream",
     "text": [
      "C:\\Users\\shara\\anaconda3\\envs\\MachineLearning\\Lib\\site-packages\\sklearn\\base.py:465: UserWarning: X does not have valid feature names, but DecisionTreeRegressor was fitted with feature names\n",
      "  warnings.warn(\n",
      "C:\\Users\\shara\\AppData\\Local\\Temp\\ipykernel_22548\\3237992487.py:4: DeprecationWarning: Conversion of an array with ndim > 0 to a scalar is deprecated, and will error in future. Ensure you extract a single element from your array before performing this operation. (Deprecated NumPy 1.25.)\n",
      "  return int(ynew)\n"
     ]
    },
    {
     "ename": "AttributeError",
     "evalue": "'SHIP' object has no attribute 'move_crew'",
     "output_type": "error",
     "traceback": [
      "\u001b[1;31m---------------------------------------------------------------------------\u001b[0m",
      "\u001b[1;31mAttributeError\u001b[0m                            Traceback (most recent call last)",
      "Cell \u001b[1;32mIn[87], line 1\u001b[0m\n\u001b[1;32m----> 1\u001b[0m Ai_bot(model)\n",
      "Cell \u001b[1;32mIn[86], line 24\u001b[0m, in \u001b[0;36mAi_bot\u001b[1;34m(model)\u001b[0m\n\u001b[0;32m     22\u001b[0m     bot_y \u001b[38;5;241m=\u001b[39m (op \u001b[38;5;241m-\u001b[39m \u001b[38;5;241m1\u001b[39m) \u001b[38;5;241m/\u001b[39m\u001b[38;5;241m/\u001b[39m \u001b[38;5;241m11\u001b[39m\n\u001b[0;32m     23\u001b[0m     ship\u001b[38;5;241m.\u001b[39mbot_pos \u001b[38;5;241m=\u001b[39m (bot_x,bot_y)\n\u001b[1;32m---> 24\u001b[0m     ship\u001b[38;5;241m.\u001b[39mmove_crew()\n\u001b[0;32m     25\u001b[0m \u001b[38;5;28mprint\u001b[39m(steps)\n",
      "\u001b[1;31mAttributeError\u001b[0m: 'SHIP' object has no attribute 'move_crew'"
     ]
    }
   ],
   "source": [
    "Ai_bot(model)"
   ]
  }
 ],
 "metadata": {
  "colab": {
   "provenance": []
  },
  "kernelspec": {
   "display_name": "Python 3 (ipykernel)",
   "language": "python",
   "name": "python3"
  },
  "language_info": {
   "codemirror_mode": {
    "name": "ipython",
    "version": 3
   },
   "file_extension": ".py",
   "mimetype": "text/x-python",
   "name": "python",
   "nbconvert_exporter": "python",
   "pygments_lexer": "ipython3",
   "version": "3.11.5"
  }
 },
 "nbformat": 4,
 "nbformat_minor": 5
}
