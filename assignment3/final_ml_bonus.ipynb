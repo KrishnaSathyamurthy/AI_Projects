{
 "cells": [
  {
   "cell_type": "code",
   "execution_count": 54,
   "id": "7892ca62-4f40-4b6f-9e99-4aef31fc4061",
   "metadata": {
    "id": "7892ca62-4f40-4b6f-9e99-4aef31fc4061"
   },
   "outputs": [],
   "source": [
    "import pandas as pd\n",
    "import numpy as np\n",
    "import math\n",
    "from random import choice\n",
    "from sklearn.preprocessing import LabelEncoder\n",
    "from sklearn.model_selection import train_test_split\n",
    "from sklearn.linear_model import LogisticRegression\n",
    "from sklearn.metrics import accuracy_score\n",
    "from matplotlib import pyplot\n",
    "from sklearn.model_selection import train_test_split\n",
    "from sklearn.linear_model import LinearRegression\n",
    "from sklearn.metrics import mean_squared_error\n",
    "from sklearn.tree import DecisionTreeRegressor\n",
    "from sklearn.metrics import mean_squared_error\n",
    "from sklearn.model_selection import cross_val_score\n",
    "from sklearn.metrics import accuracy_score\n",
    "from ast import literal_eval\n",
    "import AI_Proj3\n",
    "import run_simulations\n",
    "from multiprocess import Pool, cpu_count\n",
    "from sys import getsizeof\n",
    "import pickle\n",
    "import os\n",
    "import csv"
   ]
  },
  {
   "cell_type": "code",
   "execution_count": 55,
   "id": "d5c50251-4f2f-4a66-8a29-a8b6526b28bd",
   "metadata": {},
   "outputs": [],
   "source": [
    "import warnings\n",
    "warnings.filterwarnings('ignore')"
   ]
  },
  {
   "cell_type": "code",
   "execution_count": 56,
   "id": "bced1573-c715-4748-b728-9b2065977ddb",
   "metadata": {},
   "outputs": [],
   "source": [
    "is_general = False"
   ]
  },
  {
   "cell_type": "code",
   "execution_count": 57,
   "id": "5cf099b7-8972-4b36-957d-a4e645749564",
   "metadata": {},
   "outputs": [],
   "source": [
    "label_encoder = LabelEncoder()\n",
    "closed_cells_encoder = LabelEncoder()\n",
    "walls_encoder = LabelEncoder()"
   ]
  },
  {
   "cell_type": "markdown",
   "id": "aa2e2386-8319-4d9e-b286-8465b73c6d10",
   "metadata": {},
   "source": [
    "Functions"
   ]
  },
  {
   "cell_type": "code",
   "execution_count": 58,
   "id": "76935c00-e549-45f7-b94a-8f5e3b2919f2",
   "metadata": {},
   "outputs": [],
   "source": [
    "def parse_tuple(cell):\n",
    "    parts = cell.strip('()').split(',')\n",
    "    return tuple(int(part.strip()) for part in parts)\n",
    "\n",
    "def clean_Bot_Move(row, df):\n",
    "    crew_cell = parse_tuple(row['Crew_Pos'])\n",
    "    if crew_cell[0] == 5 and crew_cell[1] == 5:\n",
    "        return None\n",
    "    else:\n",
    "        next_row_index = row.name + 1  # Get the index of the next row\n",
    "        if next_row_index < len(df):\n",
    "            return df.at[next_row_index, 'Bot_Pos']  # Return Bot_Cell value from the next row\n",
    "            \n",
    "def parse_coordinates(coord_str):\n",
    "    if coord_str:\n",
    "        x, y = map(int, coord_str.strip(\"()\").split(\",\"))\n",
    "        return x, y\n",
    "    else:\n",
    "        return None\n",
    "\n",
    "def calculate_direction(row):\n",
    "    bot_cell = parse_coordinates(row['Bot_Cell'])\n",
    "    bot_move = parse_coordinates(row['Bot_Move'])\n",
    "\n",
    "    if bot_cell and bot_move:\n",
    "        delta_x = bot_move[0] - bot_cell[0]\n",
    "        delta_y = bot_move[1] - bot_cell[1]\n",
    "\n",
    "        if delta_x == 0 and delta_y == 0:\n",
    "            return \"No movement\"\n",
    "        elif delta_x == 0:\n",
    "            return \"North\" if delta_y > 0 else \"South\"\n",
    "        elif delta_y == 0:\n",
    "            return \"East\" if delta_x > 0 else \"West\"\n",
    "        elif delta_x > 0:\n",
    "            return \"Northeast\" if delta_y > 0 else \"Southeast\"\n",
    "        else:\n",
    "            return \"Northwest\" if delta_y > 0 else \"Southwest\"\n",
    "    else:\n",
    "        return \"Invalid coordinates\"\n",
    "\n",
    "def map_coordinates_to_integer(row,celltype):\n",
    "    cell = parse_coordinates(row[celltype])\n",
    "    cols = 11\n",
    "    return cell[0] * cols + cell[1] + 1\n",
    "\n",
    "def encode_list_of_tuples(lst):\n",
    "    return ','.join([str(x) for x in lst])\n",
    "\n",
    "def convert_tuples(cell):\n",
    "    return literal_eval(cell)\n",
    "\n",
    "def lengthSquare(X, Y):\n",
    "    xDiff = X[0] - Y[0]\n",
    "    yDiff = X[1] - Y[1]\n",
    "    return xDiff * xDiff + yDiff * yDiff\n",
    "\n",
    "def getAngle(a, b):\n",
    "    c = (5, 5)\n",
    "    a2 = lengthSquare(a, c)\n",
    "    b2 = lengthSquare(b, c)\n",
    "    c2 = lengthSquare(a, b)\n",
    "    return math.acos((a2 + b2 - c2) / (2 * math.sqrt(a2) * math.sqrt(b2)))#(math.acos((a2 + b2 - c2) / (2 * math.sqrt(a2) * math.sqrt(b2))) * 180 / math.pi);\n",
    "\n",
    "def parse_angles(row):\n",
    "    crew_cell = parse_tuple(row['Crew_Cell'])\n",
    "    bot_cell = parse_tuple(row['Bot_Cell'])\n",
    "    return getAngle(bot_cell, crew_cell)"
   ]
  },
  {
   "cell_type": "markdown",
   "id": "31c03c41-4776-41d9-a642-5a08d4a3ccf2",
   "metadata": {
    "id": "31c03c41-4776-41d9-a642-5a08d4a3ccf2"
   },
   "source": [
    "READ AND PREPROCESS DATA"
   ]
  },
  {
   "cell_type": "code",
   "execution_count": 59,
   "id": "792ce316-b055-45ba-ae68-27a7e6d67bb2",
   "metadata": {
    "id": "b9b80195-bf7e-42b6-bfcc-7ee4e2689279"
   },
   "outputs": [],
   "source": [
    "def process_data():\n",
    "    path = \"general_bonus/final_data.csv\" if is_general else 'single_bonus/final_data.csv' \n",
    "    df = pd.read_csv(path)\n",
    "    df['bot_x'] = df['Bot_Pos'].apply(lambda x: int(x.split(',')[0].strip('()')))\n",
    "    df['bot_y'] = df['Bot_Pos'].apply(lambda x: int(x.split(',')[1].strip('()')))\n",
    "    df['crew_x'] = df['Crew_Pos'].apply(lambda x: int(x.split(',')[0].strip('()')))\n",
    "    df['crew_y'] = df['Crew_Pos'].apply(lambda x: int(x.split(',')[1].strip('()')))\n",
    "    df['alien_x'] = df['Alien_Pos'].apply(lambda x: int(x.split(',')[0].strip('()')))\n",
    "    df['alien_y'] = df['Alien_Pos'].apply(lambda x: int(x.split(',')[1].strip('()')))\n",
    "    df['Distance_from_bot_to_crew'] = abs(df['bot_x'] - df['crew_x']) + abs(df['bot_y'] - df['crew_y'])\n",
    "    df['Distance_from_alien_to_crew'] = abs(df['alien_x'] - df['crew_x']) + abs(df['alien_y'] - df['crew_y'])\n",
    "\n",
    "    df.drop(['crew_x', 'crew_y', 'bot_x', 'bot_y','alien_x','alien_y'], axis=1, inplace=True)\n",
    "    df['Bot_Move'] = df['Bot_Pos'].shift(-1)\n",
    "    df['Bot_Move'] = df.apply(lambda row: clean_Bot_Move(row, df), axis=1)\n",
    "    df =df.dropna()\n",
    "\n",
    "\n",
    "    df[\"Bot_Cell_Encoded\"] = df.apply(lambda row: map_coordinates_to_integer(row,\"Bot_Pos\"), axis=1)\n",
    "    df[\"Crew_Cell_Encoded\"] = df.apply(lambda row: map_coordinates_to_integer(row,\"Crew_Pos\"), axis=1)\n",
    "    df[\"Bot_Move_Encoded\"] = df.apply(lambda row: map_coordinates_to_integer(row,\"Bot_Move\"), axis=1)\n",
    "    df[\"Alien_Pos_Encoded\"] = df.apply(lambda row: map_coordinates_to_integer(row,\"Alien_Pos\"), axis=1)\n",
    "\n",
    "    df['Closed_Cells_Encoded'] = df['Closed_Cells'].apply(encode_list_of_tuples)\n",
    "    df['Closed_Cells_Encoded'] = closed_cells_encoder.fit_transform(df['Closed_Cells_Encoded'])\n",
    "    df['Walls_Encoded'] = df['Wall_Cells'].apply(encode_list_of_tuples)\n",
    "    df['Walls_Encoded'] = walls_encoder.fit_transform(df['Walls_Encoded'])\n",
    "\n",
    "    label_encoded_df = df.copy()\n",
    "\n",
    "    \n",
    "    label_encoded_df = label_encoded_df.drop('Bot_Pos',axis =1)\n",
    "    label_encoded_df = label_encoded_df.drop('Crew_Pos',axis =1)\n",
    "    label_encoded_df = label_encoded_df.drop('Alien_Pos',axis =1)\n",
    "    label_encoded_df = label_encoded_df.drop('Bot_Move',axis =1)\n",
    "    label_encoded_df = label_encoded_df.drop('Closed_Cells',axis =1)\n",
    "    label_encoded_df = label_encoded_df.drop('Wall_Cells',axis =1)\n",
    "\n",
    "    return label_encoded_df"
   ]
  },
  {
   "cell_type": "markdown",
   "id": "8fd883b8-8cda-4d59-9585-8adb1db66b42",
   "metadata": {
    "id": "8fd883b8-8cda-4d59-9585-8adb1db66b42"
   },
   "source": [
    "TRAIN TEST SPLIT"
   ]
  },
  {
   "cell_type": "code",
   "execution_count": 60,
   "id": "646ffb8f-93fc-455c-ab69-2282424043e1",
   "metadata": {
    "id": "646ffb8f-93fc-455c-ab69-2282424043e1"
   },
   "outputs": [],
   "source": [
    "def train_data(data):\n",
    "    final_data = data.copy()\n",
    "    final_data = final_data.dropna()\n",
    "    X = final_data.drop('Bot_Move_Encoded', axis=1)\n",
    "    y = final_data['Bot_Move_Encoded']\n",
    "    X_train, X_test, y_train, y_test = train_test_split(X, y, test_size=0.2, random_state=42)\n",
    "    print(X_train)\n",
    "    return X_train, X_test, y_train, y_test"
   ]
  },
  {
   "cell_type": "markdown",
   "id": "c94c1725-4f74-4038-846e-00f0e35d605b",
   "metadata": {
    "id": "c94c1725-4f74-4038-846e-00f0e35d605b"
   },
   "source": [
    "MODELS"
   ]
  },
  {
   "cell_type": "markdown",
   "id": "7f91a563-7778-4b7c-9eb7-22f12b9cebe1",
   "metadata": {
    "id": "7f91a563-7778-4b7c-9eb7-22f12b9cebe1"
   },
   "source": [
    "DECISION TREE REGRESSOR"
   ]
  },
  {
   "cell_type": "code",
   "execution_count": 61,
   "id": "2b2d2a53-f525-425b-9e65-2706b9b60b6b",
   "metadata": {
    "colab": {
     "base_uri": "https://localhost:8080/"
    },
    "id": "2b2d2a53-f525-425b-9e65-2706b9b60b6b",
    "outputId": "c2d23abf-f18c-429a-fba7-29ae0237932b"
   },
   "outputs": [],
   "source": [
    "def Decision_Tree_Regressor(X_train, X_test, y_train, y_test):\n",
    "    model = DecisionTreeRegressor()\n",
    "    model.fit(X_train, y_train)\n",
    "    y_pred = model.predict(X_test)\n",
    "    return y_test, y_pred, X_train,model"
   ]
  },
  {
   "cell_type": "markdown",
   "id": "b732175a-68a7-44ae-a285-7987236b3d13",
   "metadata": {},
   "source": [
    "Accuracy"
   ]
  },
  {
   "cell_type": "code",
   "execution_count": 62,
   "id": "623fc7c0-a2cf-4745-aacd-d0fa667ff6fc",
   "metadata": {},
   "outputs": [],
   "source": [
    "def reg_metrics(y_test, y_pred, X_train):\n",
    "    from sklearn.metrics import mean_squared_error, r2_score \n",
    "\n",
    "    rmse = np.sqrt(mean_squared_error(y_test,y_pred))\n",
    "    r2 = r2_score(y_test,y_pred)\n",
    "    n = y_pred.shape[0]\n",
    "    k = X_train.shape[1]\n",
    "    adj_r_sq = 1 - (1 - r2)*(n-1)/(n-1-k)\n",
    "    print(\"rmse:\", rmse)\n",
    "    print(\"r2:\", r2)\n",
    "    print(\"adj_r_sq:\", adj_r_sq)\n",
    "\n"
   ]
  },
  {
   "cell_type": "code",
   "execution_count": null,
   "id": "02864ea2",
   "metadata": {},
   "outputs": [],
   "source": []
  },
  {
   "cell_type": "code",
   "execution_count": 65,
   "id": "70875655-6640-407f-9b54-c55e26eaf867",
   "metadata": {},
   "outputs": [],
   "source": [
    "from sklearn.metrics import mean_absolute_error\n",
    "threshold = 11\n",
    "def create_model():\n",
    "    data  = process_data()\n",
    "    X_train, X_test, y_train, y_test = train_data(data)\n",
    "    y_test, y_pred, X_train,model = Decision_Tree_Regressor(X_train, X_test, y_train, y_test)\n",
    "    predictions = model.predict(X_test)\n",
    "    mae = mean_absolute_error(y_test, predictions)\n",
    "    accuracy = ((y_test - predictions) < threshold).mean()\n",
    "    print(model, X_train.shape, X_test.shape, y_train.shape, y_test.shape)\n",
    "    print(\"mae of this case::\", mae)\n",
    "    print(\"accurray of this case::\", accuracy)\n",
    "    return model\n",
    "        "
   ]
  },
  {
   "cell_type": "code",
   "execution_count": 64,
   "id": "eeff31da-c925-469a-ae45-d871009c08c2",
   "metadata": {},
   "outputs": [],
   "source": [
    "def predict_model(model,input):\n",
    "    Xnew = input\n",
    "    ynew = model.predict(Xnew)\n",
    "    return int(ynew)"
   ]
  },
  {
   "cell_type": "code",
   "execution_count": 66,
   "id": "79d2711d-1a48-48b3-8099-448e49dd8c38",
   "metadata": {},
   "outputs": [
    {
     "name": "stdout",
     "output_type": "stream",
     "text": [
      "Testing for learnt bot & alien\n",
      "        Distance_from_bot_to_crew  Distance_from_alien_to_crew  \\\n",
      "259559                          2                            6   \n",
      "215974                          2                            9   \n",
      "109442                          2                           12   \n",
      "121320                          2                           10   \n",
      "270137                          6                            8   \n",
      "...                           ...                          ...   \n",
      "123533                          2                            8   \n",
      "267090                          2                            7   \n",
      "135978                          2                            0   \n",
      "151342                          2                            9   \n",
      "125665                          2                            7   \n",
      "\n",
      "        Bot_Cell_Encoded  Crew_Cell_Encoded  Alien_Pos_Encoded  \\\n",
      "259559                86                 84                 54   \n",
      "215974                 5                 17                 80   \n",
      "109442                88                 66                102   \n",
      "121320               110                 88                 58   \n",
      "270137                84                120                 72   \n",
      "...                  ...                ...                ...   \n",
      "123533                93                 95                 37   \n",
      "267090                41                 53                110   \n",
      "135978                24                 14                 14   \n",
      "151342               112                102                 75   \n",
      "125665                15                 37                104   \n",
      "\n",
      "        Closed_Cells_Encoded  Walls_Encoded  \n",
      "259559                     0              0  \n",
      "215974                     0              0  \n",
      "109442                     0              0  \n",
      "121320                     0              0  \n",
      "270137                     0              0  \n",
      "...                      ...            ...  \n",
      "123533                     0              0  \n",
      "267090                     0              0  \n",
      "135978                     0              0  \n",
      "151342                     0              0  \n",
      "125665                     0              0  \n",
      "\n",
      "[212245 rows x 7 columns]\n",
      "DecisionTreeRegressor() (212245, 7) (53062, 7) (212245,) (53062,)\n",
      "mae of this case:: 0.7169857193653959\n",
      "accurray of this case:: 0.9861671252497078\n"
     ]
    }
   ],
   "source": [
    "#create the model\n",
    "case_name = \"general bot & alien\" if is_general else \"learnt bot & alien\"\n",
    "print(f\"Testing for {case_name}\")\n",
    "model = create_model()\n"
   ]
  },
  {
   "cell_type": "code",
   "execution_count": null,
   "id": "c498a39b",
   "metadata": {},
   "outputs": [],
   "source": []
  },
  {
   "cell_type": "markdown",
   "id": "2b206e99",
   "metadata": {},
   "source": [
    "SOLVE THE GRID"
   ]
  },
  {
   "cell_type": "code",
   "execution_count": null,
   "id": "37f06491-f912-47db-ab47-1410766f1684",
   "metadata": {},
   "outputs": [],
   "source": [
    "class LEARN_CONFIG(AI_Proj3.SHIP):\n",
    "    def __init__(self, model, is_import = False):\n",
    "        super(LEARN_CONFIG, self).__init__(is_import)\n",
    "        if is_import:\n",
    "            self.import_ship()\n",
    "\n",
    "        self.model = model\n",
    "        self.closed_encoded = encode_list_of_tuples(self.closed_cells)\n",
    "        self.closed_encoded = closed_cells_encoder.fit_transform([self.closed_encoded])\n",
    "        self.walls_encoded = encode_list_of_tuples(self.wall_cells)\n",
    "        self.walls_encoded = walls_encoder.fit_transform([self.walls_encoded])\n",
    "\n",
    "    def import_ship(self):\n",
    "        file_name = os.path.join(\"single\", \"layout.csv\")\n",
    "        data_frame = pd.read_csv(file_name)\n",
    "        for itr, keys in enumerate([\"Closed_Cells\", \"Wall_Cells\"]):\n",
    "            for data in data_frame[keys]:\n",
    "                closed_cells_data = literal_eval(data)\n",
    "                for cell in closed_cells_data:\n",
    "                    if itr == 0:\n",
    "                        self.closed_cells.append(cell)\n",
    "                    else:\n",
    "                        self.wall_cells.append(cell)\n",
    "\n",
    "        self.set_teleport()\n",
    "        self.place_players()\n",
    "\n",
    "    def visualize_grid(self, is_end = True): #pynb doesn't update the same image...\n",
    "        if (not VISUALIZE) or (VISUALIZE and (not (self.ship.get_state(self.local_bot_pos) & BOT_CELL))):\n",
    "            return\n",
    "\n",
    "        data = []\n",
    "        for i in range(self.ship.size):\n",
    "            inner_list = []\n",
    "            for j in range(self.ship.size):\n",
    "                inner_list.append(self.ship.get_state((i, j)))\n",
    "\n",
    "            data.append(inner_list)\n",
    "        self.fig, self.ax = pyplot.subplots()\n",
    "        self.image = pyplot.imshow(data, cmap='tab20')\n",
    "        self.init_plots = True\n",
    "\n",
    "        self.image.set_data(data)\n",
    "        self.fig.canvas.draw_idle()\n",
    "        pyplot.pause(.5)\n",
    "\n",
    "        if is_end:\n",
    "            pyplot.close(self.fig)\n",
    "\n",
    "\n",
    "class LEARN_BOT(AI_Proj3.BOT_CONFIG):\n",
    "    def __init__(self, ship):\n",
    "        super(LEARN_BOT, self).__init__(ship)\n",
    "        self.ship = ship\n",
    "    \n",
    "    def move_bot(self):\n",
    "        bot_pos = self.local_bot_pos\n",
    "        #print(\"bot_pos\",bot_pos)\n",
    "        crew_pos = self.local_crew_pos\n",
    "        crew_pos_encoded = crew_pos[0] * self.ship.size + crew_pos[1] + 1\n",
    "        bot_pos_encoded = bot_pos[0] * self.ship.size + bot_pos[1] + 1\n",
    "        distance_bot_crew = AI_Proj3.get_manhattan_distance(bot_pos, crew_pos)\n",
    "        distance_alien_crew = AI_Proj3.get_manhattan_distance(bot_pos, alien_pos)\n",
    "        #print(\"bot\",bot_pos_encoded)\n",
    "        #print(\"crew\",crew_pos_encoded)\n",
    "        \n",
    "        X_input = [[distance_bot_crew,distance_alien_crew ,bot_pos_encoded, crew_pos_encoded, self.ship.closed_encoded[0], self.ship.walls_encoded[0]]]\n",
    "        op = predict_model(self.ship.model, X_input)\n",
    "        #print(\"OP\",op)\n",
    "        bot_x = (op - 1) % 11\n",
    "        bot_y = (op - 1) // 11\n",
    "        next_pos = (bot_y, bot_x)\n",
    "        #print(\"bot_next move\",next_pos)\n",
    "        if 0 <= next_pos[0] < self.ship.size and 0 <= next_pos[1] < self.ship.size:\n",
    "            for move in self.local_all_moves:\n",
    "                bot_move = (bot_pos[0] + move[0], bot_pos[1] + move[1])\n",
    "                #print(\"next_move\", bot_move, next_pos)\n",
    "                if bot_move == next_pos:\n",
    "                    state = self.ship.get_state(next_pos)\n",
    "                    self.action_result = state\n",
    "                    if state != AI_Proj3.CLOSED_CELL and state != AI_Proj3.CREW_CELL:\n",
    "                        #print(next_pos)\n",
    "                        self.make_bot_move(next_pos)\n",
    "                        return\n",
    "        else:\n",
    "            print(\"fail\")"
   ]
  },
  {
   "cell_type": "code",
   "execution_count": null,
   "id": "7da420b5-5bb5-467d-8ec3-332de871fd3c",
   "metadata": {},
   "outputs": [],
   "source": [
    "def print_data(detail):\n",
    "    print(\"%18s %18s %18s %18s %18s %18s %18s %18s %18s %18s\" % (\"Avg Suc Moves\", \"Success Rate\", \"Min Suc. Moves\", \"Max Suc. Moves\", \"Avg Caught Moves\", \"Caught Rate\", \"Avg Fail Moves\", \"Failure Rate\", \"Avg Bot Crew Dist\", \"Crew Teleport Dist\"))\n",
    "    print((\"%18s %18s %18s %18s %18s %18s %18s %18s %18s %18s\" % (detail.s_moves, detail.success, detail.min_success, detail.max_success, detail.c_moves, detail.caught, detail.f_moves, detail.failure, detail.distance, detail.dest_dist)))"
   ]
  },
  {
   "cell_type": "code",
   "execution_count": null,
   "id": "e8832f5c-8edd-401d-8547-7dc809c90f94",
   "metadata": {},
   "outputs": [],
   "source": [
    "def run_single():\n",
    "    AI_Proj3.VISUALIZE=False\n",
    "    avg_moves = run_simulations.DETAILS()\n",
    "    indiiters = 1000\n",
    "    ship = LEARN_CONFIG(model, True)\n",
    "    ship.perform_initial_calcs()\n",
    "    for _ in range(indiiters):\n",
    "        moves, result = LEARN_BOT(ship).start_rescue()\n",
    "        if result:\n",
    "            avg_moves.update_min_max(moves)\n",
    "            avg_moves.s_moves += moves\n",
    "            avg_moves.success += 1\n",
    "        else:\n",
    "            avg_moves.f_moves += moves\n",
    "            avg_moves.failure += 1\n",
    "\n",
    "        avg_moves.distance += AI_Proj3.get_manhattan_distance(ship.bot_pos, ship.crew_pos)\n",
    "        avg_moves.dest_dist += AI_Proj3.get_manhattan_distance(ship.crew_pos, ship.teleport_cell)\n",
    "        ship.reset_positions()\n",
    "    model_size = pickle.dumps(model)\n",
    "    print(\"Size of model vs Best policy lookup for learnt bot case\", getsizeof(model_size), getsizeof(ship.best_policy_lookup))\n",
    "    run_simulations.print_header()\n",
    "    run_simulations.print_data(avg_moves, 2, indiiters)\n",
    "    del ship\n",
    "    return avg_moves"
   ]
  },
  {
   "cell_type": "code",
   "execution_count": null,
   "id": "627a7554",
   "metadata": {},
   "outputs": [],
   "source": [
    "def run_test(ship_iters):\n",
    "    AI_Proj3.VISUALIZE=False\n",
    "    avg_moves = run_simulations.DETAILS()\n",
    "    indiiters = 1000\n",
    "    for i in range(ship_iters):\n",
    "        ship = LEARN_CONFIG(model)\n",
    "        for _ in range(indiiters):\n",
    "            moves, result = LEARN_BOT(ship).start_rescue()\n",
    "            if result:\n",
    "                avg_moves.update_min_max(moves)\n",
    "                avg_moves.s_moves += moves\n",
    "                avg_moves.success += 1\n",
    "            else:\n",
    "                avg_moves.f_moves += moves\n",
    "                avg_moves.failure += 1\n",
    "\n",
    "            avg_moves.distance += AI_Proj3.get_manhattan_distance(ship.bot_pos, ship.crew_pos)\n",
    "            avg_moves.dest_dist += AI_Proj3.get_manhattan_distance(ship.crew_pos, ship.teleport_cell)\n",
    "            ship.reset_positions()\n",
    "        del ship\n",
    "    return avg_moves\n",
    "\n",
    "def run_multi():\n",
    "    shipiters = 1000\n",
    "    ship_iters = int(shipiters/cpu_count())\n",
    "    avg_moves = run_simulations.DETAILS()\n",
    "    arg_data=[ship_iters for i in range(cpu_count())]\n",
    "    with Pool(processes=cpu_count()) as p:\n",
    "        for data in p.map(run_test, arg_data):\n",
    "            avg_moves.update(data)\n",
    "\n",
    "        print(f\"Following data has been tested across {shipiters} ships\")\n",
    "        run_simulations.print_header()\n",
    "        run_simulations.print_data(avg_moves, 2, cpu_count()*ship_iters*1000)"
   ]
  },
  {
   "cell_type": "code",
   "execution_count": null,
   "id": "4af2642a",
   "metadata": {},
   "outputs": [
    {
     "name": "stdout",
     "output_type": "stream",
     "text": [
      "Testing for learnt bot\n"
     ]
    },
    {
     "ename": "ValueError",
     "evalue": "X has 5 features, but DecisionTreeRegressor is expecting 7 features as input.",
     "output_type": "error",
     "traceback": [
      "\u001b[1;31m---------------------------------------------------------------------------\u001b[0m",
      "\u001b[1;31mValueError\u001b[0m                                Traceback (most recent call last)",
      "Cell \u001b[1;32mIn[30], line 11\u001b[0m\n\u001b[0;32m      9\u001b[0m     \u001b[38;5;28mprint\u001b[39m(\u001b[38;5;124m\"\u001b[39m\u001b[38;5;124mSize of model vs Best policy lookup for generalized case\u001b[39m\u001b[38;5;124m\"\u001b[39m, getsizeof(model_size), getsizeof(check_ship\u001b[38;5;241m.\u001b[39mbest_policy_lookup))\n\u001b[0;32m     10\u001b[0m \u001b[38;5;28;01melse\u001b[39;00m:\n\u001b[1;32m---> 11\u001b[0m     avg_moves \u001b[38;5;241m=\u001b[39m run_single()\n",
      "Cell \u001b[1;32mIn[28], line 8\u001b[0m, in \u001b[0;36mrun_single\u001b[1;34m()\u001b[0m\n\u001b[0;32m      6\u001b[0m ship\u001b[38;5;241m.\u001b[39mperform_initial_calcs()\n\u001b[0;32m      7\u001b[0m \u001b[38;5;28;01mfor\u001b[39;00m _ \u001b[38;5;129;01min\u001b[39;00m \u001b[38;5;28mrange\u001b[39m(indiiters):\n\u001b[1;32m----> 8\u001b[0m     moves, result \u001b[38;5;241m=\u001b[39m LEARN_BOT(ship)\u001b[38;5;241m.\u001b[39mstart_rescue()\n\u001b[0;32m      9\u001b[0m     \u001b[38;5;28;01mif\u001b[39;00m result:\n\u001b[0;32m     10\u001b[0m         avg_moves\u001b[38;5;241m.\u001b[39mupdate_min_max(moves)\n",
      "File \u001b[1;32mc:\\Users\\shara\\Desktop\\plots\\AI-Game\\assignment3\\AI_Proj3.py:491\u001b[0m, in \u001b[0;36mPARENT_BOT.start_rescue\u001b[1;34m(self)\u001b[0m\n\u001b[0;32m    488\u001b[0m \u001b[38;5;28mself\u001b[39m\u001b[38;5;241m.\u001b[39mtotal_moves \u001b[38;5;241m+\u001b[39m\u001b[38;5;241m=\u001b[39m \u001b[38;5;241m1\u001b[39m\n\u001b[0;32m    490\u001b[0m \u001b[38;5;28mself\u001b[39m\u001b[38;5;241m.\u001b[39mappend_move()\n\u001b[1;32m--> 491\u001b[0m \u001b[38;5;28mself\u001b[39m\u001b[38;5;241m.\u001b[39mmove_bot()\n\u001b[0;32m    492\u001b[0m \u001b[38;5;28;01mif\u001b[39;00m \u001b[38;5;28mself\u001b[39m\u001b[38;5;241m.\u001b[39mmove_alien() \u001b[38;5;129;01mor\u001b[39;00m \u001b[38;5;28mself\u001b[39m\u001b[38;5;241m.\u001b[39mmove_crew():\n\u001b[0;32m    493\u001b[0m     \u001b[38;5;28mself\u001b[39m\u001b[38;5;241m.\u001b[39mappend_move()\n",
      "Cell \u001b[1;32mIn[26], line 67\u001b[0m, in \u001b[0;36mLEARN_BOT.move_bot\u001b[1;34m(self)\u001b[0m\n\u001b[0;32m     63\u001b[0m \u001b[38;5;66;03m#print(\"bot\",bot_pos_encoded)\u001b[39;00m\n\u001b[0;32m     64\u001b[0m \u001b[38;5;66;03m#print(\"crew\",crew_pos_encoded)\u001b[39;00m\n\u001b[0;32m     66\u001b[0m X_input \u001b[38;5;241m=\u001b[39m [[distance, bot_pos_encoded, crew_pos_encoded, \u001b[38;5;28mself\u001b[39m\u001b[38;5;241m.\u001b[39mship\u001b[38;5;241m.\u001b[39mclosed_encoded[\u001b[38;5;241m0\u001b[39m], \u001b[38;5;28mself\u001b[39m\u001b[38;5;241m.\u001b[39mship\u001b[38;5;241m.\u001b[39mwalls_encoded[\u001b[38;5;241m0\u001b[39m]]]\n\u001b[1;32m---> 67\u001b[0m op \u001b[38;5;241m=\u001b[39m predict_model(\u001b[38;5;28mself\u001b[39m\u001b[38;5;241m.\u001b[39mship\u001b[38;5;241m.\u001b[39mmodel, X_input)\n\u001b[0;32m     68\u001b[0m \u001b[38;5;66;03m#print(\"OP\",op)\u001b[39;00m\n\u001b[0;32m     69\u001b[0m bot_x \u001b[38;5;241m=\u001b[39m (op \u001b[38;5;241m-\u001b[39m \u001b[38;5;241m1\u001b[39m) \u001b[38;5;241m%\u001b[39m \u001b[38;5;241m11\u001b[39m\n",
      "Cell \u001b[1;32mIn[15], line 3\u001b[0m, in \u001b[0;36mpredict_model\u001b[1;34m(model, input)\u001b[0m\n\u001b[0;32m      1\u001b[0m \u001b[38;5;28;01mdef\u001b[39;00m \u001b[38;5;21mpredict_model\u001b[39m(model,\u001b[38;5;28minput\u001b[39m):\n\u001b[0;32m      2\u001b[0m     Xnew \u001b[38;5;241m=\u001b[39m \u001b[38;5;28minput\u001b[39m\n\u001b[1;32m----> 3\u001b[0m     ynew \u001b[38;5;241m=\u001b[39m model\u001b[38;5;241m.\u001b[39mpredict(Xnew)\n\u001b[0;32m      4\u001b[0m     \u001b[38;5;28;01mreturn\u001b[39;00m \u001b[38;5;28mint\u001b[39m(ynew)\n",
      "File \u001b[1;32mc:\\Users\\shara\\anaconda3\\Lib\\site-packages\\sklearn\\tree\\_classes.py:500\u001b[0m, in \u001b[0;36mBaseDecisionTree.predict\u001b[1;34m(self, X, check_input)\u001b[0m\n\u001b[0;32m    477\u001b[0m \u001b[38;5;250m\u001b[39m\u001b[38;5;124;03m\"\"\"Predict class or regression value for X.\u001b[39;00m\n\u001b[0;32m    478\u001b[0m \n\u001b[0;32m    479\u001b[0m \u001b[38;5;124;03mFor a classification model, the predicted class for each sample in X is\u001b[39;00m\n\u001b[1;32m   (...)\u001b[0m\n\u001b[0;32m    497\u001b[0m \u001b[38;5;124;03m    The predicted classes, or the predict values.\u001b[39;00m\n\u001b[0;32m    498\u001b[0m \u001b[38;5;124;03m\"\"\"\u001b[39;00m\n\u001b[0;32m    499\u001b[0m check_is_fitted(\u001b[38;5;28mself\u001b[39m)\n\u001b[1;32m--> 500\u001b[0m X \u001b[38;5;241m=\u001b[39m \u001b[38;5;28mself\u001b[39m\u001b[38;5;241m.\u001b[39m_validate_X_predict(X, check_input)\n\u001b[0;32m    501\u001b[0m proba \u001b[38;5;241m=\u001b[39m \u001b[38;5;28mself\u001b[39m\u001b[38;5;241m.\u001b[39mtree_\u001b[38;5;241m.\u001b[39mpredict(X)\n\u001b[0;32m    502\u001b[0m n_samples \u001b[38;5;241m=\u001b[39m X\u001b[38;5;241m.\u001b[39mshape[\u001b[38;5;241m0\u001b[39m]\n",
      "File \u001b[1;32mc:\\Users\\shara\\anaconda3\\Lib\\site-packages\\sklearn\\tree\\_classes.py:460\u001b[0m, in \u001b[0;36mBaseDecisionTree._validate_X_predict\u001b[1;34m(self, X, check_input)\u001b[0m\n\u001b[0;32m    458\u001b[0m \u001b[38;5;28;01melse\u001b[39;00m:\n\u001b[0;32m    459\u001b[0m     force_all_finite \u001b[38;5;241m=\u001b[39m \u001b[38;5;28;01mTrue\u001b[39;00m\n\u001b[1;32m--> 460\u001b[0m X \u001b[38;5;241m=\u001b[39m \u001b[38;5;28mself\u001b[39m\u001b[38;5;241m.\u001b[39m_validate_data(\n\u001b[0;32m    461\u001b[0m     X,\n\u001b[0;32m    462\u001b[0m     dtype\u001b[38;5;241m=\u001b[39mDTYPE,\n\u001b[0;32m    463\u001b[0m     accept_sparse\u001b[38;5;241m=\u001b[39m\u001b[38;5;124m\"\u001b[39m\u001b[38;5;124mcsr\u001b[39m\u001b[38;5;124m\"\u001b[39m,\n\u001b[0;32m    464\u001b[0m     reset\u001b[38;5;241m=\u001b[39m\u001b[38;5;28;01mFalse\u001b[39;00m,\n\u001b[0;32m    465\u001b[0m     force_all_finite\u001b[38;5;241m=\u001b[39mforce_all_finite,\n\u001b[0;32m    466\u001b[0m )\n\u001b[0;32m    467\u001b[0m \u001b[38;5;28;01mif\u001b[39;00m issparse(X) \u001b[38;5;129;01mand\u001b[39;00m (\n\u001b[0;32m    468\u001b[0m     X\u001b[38;5;241m.\u001b[39mindices\u001b[38;5;241m.\u001b[39mdtype \u001b[38;5;241m!=\u001b[39m np\u001b[38;5;241m.\u001b[39mintc \u001b[38;5;129;01mor\u001b[39;00m X\u001b[38;5;241m.\u001b[39mindptr\u001b[38;5;241m.\u001b[39mdtype \u001b[38;5;241m!=\u001b[39m np\u001b[38;5;241m.\u001b[39mintc\n\u001b[0;32m    469\u001b[0m ):\n\u001b[0;32m    470\u001b[0m     \u001b[38;5;28;01mraise\u001b[39;00m \u001b[38;5;167;01mValueError\u001b[39;00m(\u001b[38;5;124m\"\u001b[39m\u001b[38;5;124mNo support for np.int64 index based sparse matrices\u001b[39m\u001b[38;5;124m\"\u001b[39m)\n",
      "File \u001b[1;32mc:\\Users\\shara\\anaconda3\\Lib\\site-packages\\sklearn\\base.py:625\u001b[0m, in \u001b[0;36mBaseEstimator._validate_data\u001b[1;34m(self, X, y, reset, validate_separately, cast_to_ndarray, **check_params)\u001b[0m\n\u001b[0;32m    622\u001b[0m     out \u001b[38;5;241m=\u001b[39m X, y\n\u001b[0;32m    624\u001b[0m \u001b[38;5;28;01mif\u001b[39;00m \u001b[38;5;129;01mnot\u001b[39;00m no_val_X \u001b[38;5;129;01mand\u001b[39;00m check_params\u001b[38;5;241m.\u001b[39mget(\u001b[38;5;124m\"\u001b[39m\u001b[38;5;124mensure_2d\u001b[39m\u001b[38;5;124m\"\u001b[39m, \u001b[38;5;28;01mTrue\u001b[39;00m):\n\u001b[1;32m--> 625\u001b[0m     \u001b[38;5;28mself\u001b[39m\u001b[38;5;241m.\u001b[39m_check_n_features(X, reset\u001b[38;5;241m=\u001b[39mreset)\n\u001b[0;32m    627\u001b[0m \u001b[38;5;28;01mreturn\u001b[39;00m out\n",
      "File \u001b[1;32mc:\\Users\\shara\\anaconda3\\Lib\\site-packages\\sklearn\\base.py:414\u001b[0m, in \u001b[0;36mBaseEstimator._check_n_features\u001b[1;34m(self, X, reset)\u001b[0m\n\u001b[0;32m    411\u001b[0m     \u001b[38;5;28;01mreturn\u001b[39;00m\n\u001b[0;32m    413\u001b[0m \u001b[38;5;28;01mif\u001b[39;00m n_features \u001b[38;5;241m!=\u001b[39m \u001b[38;5;28mself\u001b[39m\u001b[38;5;241m.\u001b[39mn_features_in_:\n\u001b[1;32m--> 414\u001b[0m     \u001b[38;5;28;01mraise\u001b[39;00m \u001b[38;5;167;01mValueError\u001b[39;00m(\n\u001b[0;32m    415\u001b[0m         \u001b[38;5;124mf\u001b[39m\u001b[38;5;124m\"\u001b[39m\u001b[38;5;124mX has \u001b[39m\u001b[38;5;132;01m{\u001b[39;00mn_features\u001b[38;5;132;01m}\u001b[39;00m\u001b[38;5;124m features, but \u001b[39m\u001b[38;5;132;01m{\u001b[39;00m\u001b[38;5;28mself\u001b[39m\u001b[38;5;241m.\u001b[39m\u001b[38;5;18m__class__\u001b[39m\u001b[38;5;241m.\u001b[39m\u001b[38;5;18m__name__\u001b[39m\u001b[38;5;132;01m}\u001b[39;00m\u001b[38;5;124m \u001b[39m\u001b[38;5;124m\"\u001b[39m\n\u001b[0;32m    416\u001b[0m         \u001b[38;5;124mf\u001b[39m\u001b[38;5;124m\"\u001b[39m\u001b[38;5;124mis expecting \u001b[39m\u001b[38;5;132;01m{\u001b[39;00m\u001b[38;5;28mself\u001b[39m\u001b[38;5;241m.\u001b[39mn_features_in_\u001b[38;5;132;01m}\u001b[39;00m\u001b[38;5;124m features as input.\u001b[39m\u001b[38;5;124m\"\u001b[39m\n\u001b[0;32m    417\u001b[0m     )\n",
      "\u001b[1;31mValueError\u001b[0m: X has 5 features, but DecisionTreeRegressor is expecting 7 features as input."
     ]
    }
   ],
   "source": [
    "case_name = \"general bot\" if is_general else \"learnt bot\"\n",
    "print(f\"Testing for {case_name}\")\n",
    "avg_moves = run_simulations.DETAILS()\n",
    "if is_general:\n",
    "    avg_moves = run_multi()\n",
    "    check_ship = LEARN_CONFIG(model)\n",
    "    check_ship.perform_initial_calcs()\n",
    "    model_size = pickle.dumps(model)\n",
    "    print(\"Size of model vs Best policy lookup for generalized case\", getsizeof(model_size), getsizeof(check_ship.best_policy_lookup))\n",
    "else:\n",
    "    avg_moves = run_single()"
   ]
  }
 ],
 "metadata": {
  "colab": {
   "provenance": []
  },
  "kernelspec": {
   "display_name": "Python 3 (ipykernel)",
   "language": "python",
   "name": "python3"
  },
  "language_info": {
   "codemirror_mode": {
    "name": "ipython",
    "version": 3
   },
   "file_extension": ".py",
   "mimetype": "text/x-python",
   "name": "python",
   "nbconvert_exporter": "python",
   "pygments_lexer": "ipython3",
   "version": "3.11.5"
  }
 },
 "nbformat": 4,
 "nbformat_minor": 5
}
