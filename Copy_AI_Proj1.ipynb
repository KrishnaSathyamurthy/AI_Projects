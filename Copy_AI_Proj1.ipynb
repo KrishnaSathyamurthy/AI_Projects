{
  "nbformat": 4,
  "nbformat_minor": 0,
  "metadata": {
    "colab": {
      "provenance": [],
      "collapsed_sections": [
        "Er-PrX9ZObrY"
      ],
      "toc_visible": true,
      "include_colab_link": true
    },
    "kernelspec": {
      "name": "python3",
      "display_name": "Python 3"
    },
    "language_info": {
      "name": "python"
    }
  },
  "cells": [
    {
      "cell_type": "markdown",
      "metadata": {
        "id": "view-in-github",
        "colab_type": "text"
      },
      "source": [
        "<a href=\"https://colab.research.google.com/github/sharanv16/AI-Game/blob/main/Copy_AI_Proj1.ipynb\" target=\"_parent\"><img src=\"https://colab.research.google.com/assets/colab-badge.svg\" alt=\"Open In Colab\"/></a>"
      ]
    },
    {
      "cell_type": "markdown",
      "source": [
        "Forming the Grid"
      ],
      "metadata": {
        "id": "VkTnVLn1Fl5U"
      }
    },
    {
      "cell_type": "markdown",
      "source": [
        "create a closed square grid\n",
        "\n",
        "*   0 implies open cell\n",
        "*   -1 implies closed cell\n",
        "*   1 implies alien\n",
        "*   10 implies captain\n",
        "*   2 implies bot\n"
      ],
      "metadata": {
        "id": "Ksa_8ctzH7vG"
      }
    },
    {
      "cell_type": "markdown",
      "source": [
        "# IMPORTS"
      ],
      "metadata": {
        "id": "-b1yqNnOMlpI"
      }
    },
    {
      "cell_type": "code",
      "source": [
        "import random\n",
        "import numpy as np\n",
        "import matplotlib.pyplot as plt"
      ],
      "metadata": {
        "id": "8nzWA3dVFrTR"
      },
      "execution_count": null,
      "outputs": []
    },
    {
      "cell_type": "markdown",
      "source": [
        "# MAKING THE GRID"
      ],
      "metadata": {
        "id": "AxGdIejKEGJn"
      }
    },
    {
      "cell_type": "markdown",
      "source": [],
      "metadata": {
        "id": "13Nva5Tm8MuB"
      }
    },
    {
      "cell_type": "code",
      "source": [
        "#Parameters grid size,number of aliens\n",
        "class Grid:\n",
        "  def __init__(self,n,no_of_aliens):\n",
        "    self.no_of_aliens =no_of_aliens\n",
        "    self.n = n\n",
        "    self.grid = np.full((self.n,self.n),-1)\n",
        "    self.rows, self.cols = self.grid.shape\n",
        "    # assign a random start point\n",
        "    self.x_start =  random.randint(0,self.n-1)\n",
        "    self.y_start =  random.randint(0,self.n-1)\n",
        "    #print(f\" start = {self.x_start} {self.y_start}\")\n",
        "    self.grid[self.x_start,self.y_start] = 0\n",
        "    #start building paths from the start point\n",
        "\n",
        "  def find_closed_cells_with_one_open_neighbor(self):\n",
        "    self.results = []\n",
        "    for i in range(self.rows):\n",
        "      for j in range(self.cols):\n",
        "        if self.grid[i, j] == -1:  # Check for closed cells only\n",
        "          self.adjacent_cells = [(i - 1, j), (i, j - 1), (i + 1, j), (i, j + 1)]\n",
        "          self.adjacent_cells = [(x, y) for x, y in self.adjacent_cells if 0 <= x < self.rows and 0 <= y < self.cols]\n",
        "          self.num_zero_neighbors = sum(self.grid[x, y] == 0 for x, y in self.adjacent_cells)\n",
        "          if self.num_zero_neighbors == 1:\n",
        "            self.results.append((i, j))\n",
        "    return self.results\n",
        "\n",
        "\n",
        "  def create_grid(self):\n",
        "    self.closed_cells = []\n",
        "    self.avl_cells = self.find_closed_cells_with_one_open_neighbor()\n",
        "    #print(self.avl_cells)\n",
        "    while self.avl_cells:\n",
        "      p = random.choice(self.avl_cells)\n",
        "      self.grid[p] = 0\n",
        "      self.avl_cells = []\n",
        "      self.avl_cells = self.find_closed_cells_with_one_open_neighbor()\n",
        "    for i in range(self.rows):\n",
        "      for j in range(self.cols):\n",
        "        if self.grid[i,j] ==-1:\n",
        "          self.closed_cells.append((i,j))\n",
        "    self.l = len(self.closed_cells)//2\n",
        "    while self.l:\n",
        "      random_cell = random.choice(self.closed_cells)\n",
        "      self.grid[random_cell]  = 0\n",
        "      self.closed_cells.remove(random_cell)\n",
        "      self.l-=1\n",
        "\n",
        "\n",
        "\n",
        "  def find_open_cells(self):\n",
        "    self.open_cells = []\n",
        "    for i in range(self.rows):\n",
        "      for j in range(self.cols):\n",
        "        if self.grid[i,j] == 0:\n",
        "          self.open_cells.append((i,j))\n",
        "\n",
        "  def place_aliens(self):\n",
        "    k = self.no_of_aliens\n",
        "    self.find_open_cells()\n",
        "    self.alien_cells=[]\n",
        "    while k:\n",
        "      r = random.choice(self.open_cells)\n",
        "      self.grid[r] = 1\n",
        "      self.alien_cells.append(r)\n",
        "      self.open_cells.remove(r)\n",
        "      k -=1\n",
        "\n",
        "\n",
        "  def place_bot(self):\n",
        "    r =  random.choice(self.open_cells)\n",
        "    self.grid[r] = 2\n",
        "    self.start = r\n",
        "\n",
        "  def place_captain(self):\n",
        "    r = random.choice(self.open_cells)\n",
        "    self.grid[r] = 10\n",
        "    self.goal = r\n",
        "\n",
        "  def place_players(self):\n",
        "    self.place_aliens()\n",
        "    self.place_captain()\n",
        "    self.place_bot()\n",
        "\n",
        "\n",
        "  def show_grid(self):\n",
        "    print(self.grid)\n",
        "\n"
      ],
      "metadata": {
        "id": "gzeBxiTaI4Bf"
      },
      "execution_count": 16,
      "outputs": []
    },
    {
      "cell_type": "markdown",
      "source": [
        "# VISUALIZING THE GRID"
      ],
      "metadata": {
        "id": "Er-PrX9ZObrY"
      }
    },
    {
      "cell_type": "code",
      "source": [
        "def show_color_grid(grid):\n",
        "\n",
        "  color_map = {\n",
        "    0: \"white\",\n",
        "    -1: \"black\",\n",
        "    1: \"green\",\n",
        "    10: \"red\",\n",
        "    2: \"blue\",\n",
        "  }\n",
        "\n",
        "# Create the figure and axes\n",
        "  fig, ax = plt.subplots()\n",
        "\n",
        "# Define cell width and height\n",
        "  cell_width = 1\n",
        "  cell_height = 1\n",
        "\n",
        "# Fill the cells with the \"x\" pattern\n",
        "  for i in range(len(grid)):\n",
        "    for j in range(len(grid[i])):\n",
        "      color = color_map[grid[i][j]]\n",
        "      x = j * cell_width\n",
        "      y = i * cell_height\n",
        "      ax.plot([x, x + cell_width, x + cell_width, x],\n",
        "                [y, y + cell_height, y, y + cell_height],\n",
        "                color=color, linewidth=2)\n",
        "\n",
        "# Draw black borders around each cell\n",
        "  for i in range(len(grid)):\n",
        "    for j in range(len(grid[i])):\n",
        "      ax.plot([j, j + 1], [i, i], color=\"black\", linewidth=1)\n",
        "      ax.plot([j, j + 1], [i + 1, i + 1], color=\"black\", linewidth=1)\n",
        "      ax.plot([j, j], [i, i + 1], color=\"black\", linewidth=1)\n",
        "      ax.plot([j + 1, j + 1], [i, i + 1], color=\"black\", linewidth=1)\n",
        "\n",
        "# Set limits and labels\n",
        "  ax.set_xlim(0, len(grid[0]) * cell_width)\n",
        "  ax.set_ylim(0, len(grid) * cell_height)\n",
        "  ax.set_xticks([])\n",
        "  ax.set_yticks([])\n",
        "  ax.set_xlabel(\"X\")\n",
        "  ax.set_ylabel(\"Y\")\n",
        "\n",
        "# Turn off axes\n",
        "  ax.axis('off')\n",
        "\n",
        "# Show the plot\n",
        "  plt.show()"
      ],
      "metadata": {
        "id": "VSUFEMEHOh6X"
      },
      "execution_count": 14,
      "outputs": []
    },
    {
      "cell_type": "markdown",
      "source": [
        "# Bot1 Class\n"
      ],
      "metadata": {
        "id": "v7fvWa_oEQds"
      }
    },
    {
      "cell_type": "code",
      "source": [
        "class Bot1:\n",
        "    def __init__(self, grid, start, goal, alien_cells):\n",
        "        self.grid = grid.copy()  # Create a copy of the grid\n",
        "        self.goal = goal\n",
        "        self.start = start\n",
        "        self.alien_cells = alien_cells\n",
        "        self.rows, self.cols = self.grid.shape\n",
        "\n",
        "    def print_grid(self):\n",
        "        print(self.grid)  # Print the original grid\n",
        "\n",
        "    def find_shortest_path(self, grid):  # Accept grid as an argument\n",
        "        queue = [(self.start, [self.start])]\n",
        "        visited = set()\n",
        "        while queue:\n",
        "            cell, path = queue.pop(0)\n",
        "            visited.add(cell)\n",
        "\n",
        "            if cell == self.goal:\n",
        "                return path\n",
        "\n",
        "            for neighbor in [(cell[0] + 1, cell[1]), (cell[0] - 1, cell[1]),\n",
        "                              (cell[0], cell[1] + 1), (cell[0], cell[1] - 1)]:\n",
        "                if 0 <= neighbor[0] < self.rows and 0 <= neighbor[1] < self.cols and grid[neighbor] != -1 and neighbor not in visited:\n",
        "                    queue.append((neighbor, path + [neighbor]))\n",
        "\n",
        "        return None\n",
        "\n",
        "    def get_adjacent_cells(self, x, y):\n",
        "        adjacent_cells = []\n",
        "        if 0 <= x - 1 < self.grid.shape[0]:\n",
        "            adjacent_cells.append((x - 1, y))  # Top\n",
        "        if 0 <= y - 1 < self.grid.shape[1]:\n",
        "            adjacent_cells.append((x, y - 1))  # Left\n",
        "        if 0 <= x + 1 < self.grid.shape[0]:\n",
        "            adjacent_cells.append((x + 1, y))  # Bottom\n",
        "        if 0 <= y + 1 < self.grid.shape[1]:\n",
        "            adjacent_cells.append((x, y + 1))  # Right\n",
        "        return adjacent_cells\n",
        "\n",
        "    def start_rescue(self):\n",
        "        local_grid = self.grid.copy()  # Create a local copy for pathfinding and movements\n",
        "\n",
        "        self.path = self.find_shortest_path(local_grid)  # Use local_grid for pathfinding\n",
        "        prev_cell = [self.start]\n",
        "        flag = 0\n",
        "        self.bot_path = [self.start]\n",
        "\n",
        "        while flag == 0:\n",
        "            for cell in self.path:\n",
        "                print(\"\\n \\n\")\n",
        "                print(local_grid)  # Print the local grid\n",
        "                local_grid[cell] = 2  # Update local_grid, not the original\n",
        "                local_grid[prev_cell] = 0\n",
        "                prev_cell = cell\n",
        "\n",
        "                if cell == self.goal:\n",
        "                    flag = 1\n",
        "                    break\n",
        "\n",
        "                chosen_alien = random.choice(self.alien_cells)\n",
        "                alien_possible_moves = self.get_adjacent_cells(chosen_alien[0], chosen_alien[1])\n",
        "                random_cell_choice = random.choice(alien_possible_moves)\n",
        "                print(f\"Alien moves from {chosen_alien} to {random_cell_choice}\")\n",
        "\n",
        "                if local_grid[random_cell_choice] == 2:\n",
        "                    flag = 2\n",
        "                    break\n",
        "                else:\n",
        "                    local_grid[random_cell_choice] = 1\n",
        "                    local_grid[chosen_alien] = 0\n",
        "                    self.alien_cells.remove(chosen_alien)\n",
        "                    self.alien_cells.append(random_cell_choice)\n",
        "                    self.bot_path.append(cell)\n",
        "\n",
        "        if flag == 1:\n",
        "            print(\"GOAL REACHED\")\n",
        "        else:\n",
        "            print(\"GOAL FAILED\")\n",
        "            print(f\"Alien met bot at {random_cell_choice}\")\n",
        "        print(self.bot_path)\n",
        "        print(f\"no of steps taken = {len(self.bot_path)}\")\n"
      ],
      "metadata": {
        "id": "6R4LDgFAKUiC"
      },
      "execution_count": null,
      "outputs": []
    },
    {
      "cell_type": "markdown",
      "source": [
        "# BOT 2"
      ],
      "metadata": {
        "id": "dTJ6Ab8N3oXi"
      }
    },
    {
      "cell_type": "code",
      "source": [
        "class Bot2:\n",
        "    def __init__(self, grid, start, goal, alien_cells):\n",
        "        self.grid = grid.copy()  # Create a copy of the grid\n",
        "        self.goal = goal\n",
        "        self.start = start\n",
        "        self.alien_cells = alien_cells\n",
        "        self.rows, self.cols = self.grid.shape\n",
        "\n",
        "    def print_grid(self):\n",
        "        print(self.grid)  # Print the original grid\n",
        "\n",
        "    def find_shortest_path(self, grid):  # Accept grid as an argument\n",
        "        queue = [(self.start, [self.start])]\n",
        "        visited = set()\n",
        "\n",
        "        while queue:\n",
        "            cell, path = queue.pop(0)\n",
        "            visited.add(cell)\n",
        "\n",
        "            if cell == self.goal:\n",
        "                return path\n",
        "\n",
        "            for neighbor in [(cell[0] + 1, cell[1]), (cell[0] - 1, cell[1]),\n",
        "                              (cell[0], cell[1] + 1), (cell[0], cell[1] - 1)]:\n",
        "                if 0 <= neighbor[0] < self.rows and 0 <= neighbor[1] < self.cols and grid[neighbor] != -1 and grid[neighbor] != 1 and neighbor not in visited:\n",
        "                    queue.append((neighbor, path + [neighbor]))\n",
        "\n",
        "        return None\n",
        "\n",
        "    def get_adjacent_cells(self, x, y):\n",
        "        adjacent_cells = []\n",
        "        if 0 <= x - 1 < self.grid.shape[0]:\n",
        "            adjacent_cells.append((x - 1, y))  # Top\n",
        "        if 0 <= y - 1 < self.grid.shape[1]:\n",
        "            adjacent_cells.append((x, y - 1))  # Left\n",
        "        if 0 <= x + 1 < self.grid.shape[0]:\n",
        "            adjacent_cells.append((x + 1, y))  # Bottom\n",
        "        if 0 <= y + 1 < self.grid.shape[1]:\n",
        "            adjacent_cells.append((x, y + 1))  # Right\n",
        "        return adjacent_cells\n",
        "\n",
        "    def start_rescue(self):\n",
        "        local_grid = self.grid.copy()  # Create a local copy for pathfinding and movements\n",
        "        self.path = self.find_shortest_path(local_grid)  # Use local_grid for pathfinding\n",
        "        prev_cell = [self.start]\n",
        "        flag = 0\n",
        "        self.bot_path = [self.start]\n",
        "        self.total_wait = 0\n",
        "\n",
        "        while flag == 0:\n",
        "            self.path =self.find_shortest_path(local_grid)\n",
        "            if self.path is None:\n",
        "              self.wait_count +=1\n",
        "              if self.wait_count>100:\n",
        "                flag = 2\n",
        "                break\n",
        "            self.total_wait += self.wait_count\n",
        "            for cell in self.path:\n",
        "              self.wait_count = 0\n",
        "              print(\"\\n \\n\")\n",
        "              print(local_grid)  # Print the local grid\n",
        "              local_grid[cell] = 2  # Update local_grid, not the original\n",
        "              local_grid[prev_cell] = 0\n",
        "              prev_cell = cell\n",
        "\n",
        "              if cell == self.goal:\n",
        "                  flag = 1\n",
        "                  break\n",
        "\n",
        "              chosen_alien = random.choice(self.alien_cells)\n",
        "              alien_possible_moves = self.get_adjacent_cells(chosen_alien[0], chosen_alien[1])\n",
        "              random_cell_choice = random.choice(alien_possible_moves)\n",
        "              print(f\"Alien moves from {chosen_alien} to {random_cell_choice}\")\n",
        "\n",
        "              if local_grid[random_cell_choice] == 2:\n",
        "                  flag = 2\n",
        "                  break\n",
        "              else:\n",
        "                  local_grid[random_cell_choice] = 1\n",
        "                  local_grid[chosen_alien] = 0\n",
        "                  self.alien_cells.remove(chosen_alien)\n",
        "                  self.alien_cells.append(random_cell_choice)\n",
        "                  self.bot_path.append(cell)\n",
        "\n",
        "        if flag == 1:\n",
        "            print(\"GOAL REACHED\")\n",
        "        elif flag== 2:\n",
        "          print(local_grid)\n",
        "          print(\"Bot is stuck\")\n",
        "          print(f\"no.of steps taken = {len(self.bot_path)} + 100 idle steps\")\n",
        "        else:\n",
        "            print(\"GOAL FAILED\")\n",
        "            print(f\"Alien met bot at {random_cell_choice}\")\n",
        "        print(self.bot_path)\n",
        "        print(f\"no of steps taken = {len(self.bot_path)}\")\n"
      ],
      "metadata": {
        "id": "XVL5PSfT8Dxb"
      },
      "execution_count": null,
      "outputs": []
    },
    {
      "cell_type": "markdown",
      "source": [
        "# BOT 3"
      ],
      "metadata": {
        "id": "zzE53mb_xhYU"
      }
    },
    {
      "cell_type": "code",
      "source": [
        "#shortest path treating the adj cells of aliens as closed if no path found treat bot 2 logic\n",
        "# need a copy of the grid\n",
        "class BOT3:\n",
        "  def __init__(self,grid,start,goal,alien_cells):\n",
        "    self.grid = grid\n",
        "    self.start = start\n",
        "    self.goal = goal\n",
        "    self.alien_cells = alien_cells\n",
        "\n",
        "  def get_adjacent_cells(self, x, y):\n",
        "    adjacent_cells = []\n",
        "      if 0 <= x - 1 < self.grid.shape[0]:\n",
        "          adjacent_cells.append((x - 1, y))  # Top\n",
        "      if 0 <= y - 1 < self.grid.shape[1]:\n",
        "          adjacent_cells.append((x, y - 1))  # Left\n",
        "      if 0 <= x + 1 < self.grid.shape[0]:\n",
        "          adjacent_cells.append((x + 1, y))  # Bottom\n",
        "      if 0 <= y + 1 < self.grid.shape[1]:\n",
        "          adjacent_cells.append((x, y + 1))  # Right\n",
        "      return adjacent_cells\n",
        "\n",
        "\n",
        "  def transform_grid(self):\n",
        "    for cell in self.aliens:\n",
        "      self.adj_cells = self.get_adjacent_cells(cell[0],cell[1])\n",
        "      for adj_cell in self.adj_cells:\n",
        "        if self.grid1[adj_cell] == 0:\n",
        "          self.grid1[adj_cell] = 1\n",
        "    return self.grid1\n",
        "\n",
        "  def find_shortest_path(self, grid):  # Accept grid as an argument\n",
        "    queue = [(self.start, [self.start])]\n",
        "    visited = set()\n",
        "\n",
        "    while queue:\n",
        "        cell, path = queue.pop(0)\n",
        "        visited.add(cell)\n",
        "\n",
        "        if cell == self.goal:\n",
        "            return path\n",
        "\n",
        "        for neighbor in [(cell[0] + 1, cell[1]), (cell[0] - 1, cell[1]),\n",
        "                              (cell[0], cell[1] + 1), (cell[0], cell[1] - 1)]:\n",
        "                              if 0 <= neighbor[0] < self.rows and 0 <= neighbor[1] < self.cols and grid[neighbor] != -1 and grid[neighbor] != 1 and neighbor not in visited:\n",
        "                    queue.append((neighbor, path + [neighbor]))\n",
        "\n",
        "        return None\n",
        "\n",
        "  def start_rescue(self):\n",
        "    self.grid1 =self.transform_grid(self.grid.copy())\n",
        "    self.path = self.find_shortest_path(self,self.grid1):\n",
        "    if self.path is None:\n",
        "      self.path = self.find_shortest_path(self.grid)\n",
        "    flag = 0\n",
        "    self.total_wait = 0\n",
        "\n",
        "    while flag == 0:\n",
        "      if self.path is None:\n",
        "        self.wait_count+=1\n",
        "        if self.wait_count>100:\n",
        "          flag =1\n",
        "          break\n",
        "      self.total_wait += self.wait_count\n",
        "\n",
        "\n",
        "\n",
        "\n",
        "\n",
        "\n",
        "\n",
        "\n",
        "\n",
        "\n",
        "\n",
        "\n",
        "\n",
        "\n",
        "\n",
        "\n",
        "\n",
        "\n",
        "\n",
        "\n"
      ],
      "metadata": {
        "id": "UMB6V_zA0Edr"
      },
      "execution_count": null,
      "outputs": []
    },
    {
      "cell_type": "markdown",
      "source": [
        "# MAIN"
      ],
      "metadata": {
        "id": "pdvkXWS62Fr1"
      }
    },
    {
      "cell_type": "code",
      "source": [
        "g = Grid(10,5)\n",
        "g.create_grid()\n",
        "g.place_players()\n",
        "#g.show_grid()\n",
        "#print(f\" start = {g.start} \\n goal = {g.goal}\")"
      ],
      "metadata": {
        "id": "5jMBym4JJ7Hv"
      },
      "execution_count": 17,
      "outputs": []
    },
    {
      "cell_type": "code",
      "source": [
        "g.show_grid()\n",
        "g.start"
      ],
      "metadata": {
        "colab": {
          "base_uri": "https://localhost:8080/"
        },
        "id": "qz6FXIvcTUdE",
        "outputId": "1c6a6773-37b0-4467-c073-d10ae401e353"
      },
      "execution_count": 18,
      "outputs": [
        {
          "output_type": "stream",
          "name": "stdout",
          "text": [
            "[[ 0  0  0  0 10  0  0  0  0  0]\n",
            " [ 0  0  0  0  0  0  0 -1  0 -1]\n",
            " [-1 -1  1 -1 -1 -1  0  1 -1  0]\n",
            " [ 0  0  0  0  1  0  0  1  0  0]\n",
            " [ 0  0 -1  1  0  0  0  0  0  0]\n",
            " [ 0 -1  0  0  0  0  0  0  0  0]\n",
            " [ 0  0  0  0 -1  0  0  0  0  0]\n",
            " [ 0 -1  0  0 -1  0  0  0 -1  0]\n",
            " [ 0  0  0  0  0  0 -1  0  0 -1]\n",
            " [-1  0  0  0  0  2  0  0  0  0]]\n"
          ]
        },
        {
          "output_type": "execute_result",
          "data": {
            "text/plain": [
              "(9, 5)"
            ]
          },
          "metadata": {},
          "execution_count": 18
        }
      ]
    },
    {
      "cell_type": "code",
      "source": [
        "show_color_grid(g.grid)"
      ],
      "metadata": {
        "colab": {
          "base_uri": "https://localhost:8080/",
          "height": 406
        },
        "id": "xpuvD7R5O5h_",
        "outputId": "42e51c77-af06-4ca4-b676-e159616ee0b0"
      },
      "execution_count": 19,
      "outputs": [
        {
          "output_type": "display_data",
          "data": {
            "text/plain": [
              "<Figure size 640x480 with 1 Axes>"
            ],
            "image/png": "[encoded data removed]"
          },
          "metadata": {}
        }
      ]
    },
    {
      "cell_type": "code",
      "source": [
        "b1 = Bot1(g.grid.copy(),g.start,g.goal,g.alien_cells)\n",
        "b1.start_rescue()"
      ],
      "metadata": {
        "id": "Y0pURsBQKUeo",
        "colab": {
          "base_uri": "https://localhost:8080/"
        },
        "outputId": "e16652ec-6350-4dab-ec83-489c74c150b0"
      },
      "execution_count": null,
      "outputs": [
        {
          "output_type": "stream",
          "name": "stdout",
          "text": [
            "\n",
            " \n",
            "\n",
            "[[ 0 -1  0  0  0  0  0 -1  0  0]\n",
            " [ 0 -1  0 -1  0 -1  0 -1  1 -1]\n",
            " [ 0  0  0 -1 -1  0  0 -1  0  0]\n",
            " [ 0 -1  0  0 10 -1 -1  0 -1  0]\n",
            " [-1  0  0 -1  0  0 -1  0 -1  1]\n",
            " [ 0 -1  0 -1 -1  0  0  0  0  0]\n",
            " [ 0 -1  0  0  0 -1  0 -1 -1  1]\n",
            " [ 0  0  0 -1  0  0 -1  2  0  0]\n",
            " [-1  0 -1  0  0 -1  0 -1  0 -1]\n",
            " [ 0  0  0 -1  1  0  0 -1  0  1]]\n",
            "Alien moves from (1, 8) to (1, 9)\n",
            "\n",
            " \n",
            "\n",
            "[[ 0 -1  0  0  0  0  0 -1  0  0]\n",
            " [ 0 -1  0 -1  0 -1  0 -1  0  1]\n",
            " [ 0  0  0 -1 -1  0  0 -1  0  0]\n",
            " [ 0 -1  0  0 10 -1 -1  0 -1  0]\n",
            " [-1  0  0 -1  0  0 -1  0 -1  1]\n",
            " [ 0 -1  0 -1 -1  0  0  0  0  0]\n",
            " [ 0 -1  0  0  0 -1  0 -1 -1  1]\n",
            " [ 0  0  0  0  0  0  0  0  0  0]\n",
            " [-1  0 -1  0  0 -1  0 -1  0 -1]\n",
            " [ 0  0  0 -1  1  0  0 -1  0  1]]\n",
            "Alien moves from (9, 9) to (9, 8)\n",
            "\n",
            " \n",
            "\n",
            "[[ 0 -1  0  0  0  0  0 -1  0  0]\n",
            " [ 0 -1  0 -1  0 -1  0 -1  0  1]\n",
            " [ 0  0  0 -1 -1  0  0 -1  0  0]\n",
            " [ 0 -1  0  0 10 -1 -1  0 -1  0]\n",
            " [-1  0  0 -1  0  0 -1  0 -1  1]\n",
            " [ 0 -1  0 -1 -1  0  0  0  0  0]\n",
            " [ 0 -1  0  0  0 -1  0 -1 -1  1]\n",
            " [ 0  0  0  0  0  0  0  0  2  0]\n",
            " [-1  0 -1  0  0 -1  0 -1  0 -1]\n",
            " [ 0  0  0 -1  1  0  0 -1  1  0]]\n",
            "Alien moves from (1, 9) to (2, 9)\n",
            "\n",
            " \n",
            "\n",
            "[[ 0 -1  0  0  0  0  0 -1  0  0]\n",
            " [ 0 -1  0 -1  0 -1  0 -1  0  0]\n",
            " [ 0  0  0 -1 -1  0  0 -1  0  1]\n",
            " [ 0 -1  0  0 10 -1 -1  0 -1  0]\n",
            " [-1  0  0 -1  0  0 -1  0 -1  1]\n",
            " [ 0 -1  0 -1 -1  0  0  0  0  0]\n",
            " [ 0 -1  0  0  0 -1  0 -1 -1  1]\n",
            " [ 0  0  0  0  0  0  0  0  0  2]\n",
            " [-1  0 -1  0  0 -1  0 -1  0 -1]\n",
            " [ 0  0  0 -1  1  0  0 -1  1  0]]\n",
            "Alien moves from (4, 9) to (5, 9)\n",
            "\n",
            " \n",
            "\n",
            "[[ 0 -1  0  0  0  0  0 -1  0  0]\n",
            " [ 0 -1  0 -1  0 -1  0 -1  0  0]\n",
            " [ 0  0  0 -1 -1  0  0 -1  0  1]\n",
            " [ 0 -1  0  0 10 -1 -1  0 -1  0]\n",
            " [-1  0  0 -1  0  0 -1  0 -1  0]\n",
            " [ 0 -1  0 -1 -1  0  0  0  0  1]\n",
            " [ 0 -1  0  0  0 -1  0 -1 -1  2]\n",
            " [ 0  0  0  0  0  0  0  0  0  0]\n",
            " [-1  0 -1  0  0 -1  0 -1  0 -1]\n",
            " [ 0  0  0 -1  1  0  0 -1  1  0]]\n",
            "Alien moves from (9, 4) to (8, 4)\n",
            "\n",
            " \n",
            "\n",
            "[[ 0 -1  0  0  0  0  0 -1  0  0]\n",
            " [ 0 -1  0 -1  0 -1  0 -1  0  0]\n",
            " [ 0  0  0 -1 -1  0  0 -1  0  1]\n",
            " [ 0 -1  0  0 10 -1 -1  0 -1  0]\n",
            " [-1  0  0 -1  0  0 -1  0 -1  0]\n",
            " [ 0 -1  0 -1 -1  0  0  0  0  2]\n",
            " [ 0 -1  0  0  0 -1  0 -1 -1  0]\n",
            " [ 0  0  0  0  0  0  0  0  0  0]\n",
            " [-1  0 -1  0  1 -1  0 -1  0 -1]\n",
            " [ 0  0  0 -1  0  0  0 -1  1  0]]\n",
            "Alien moves from (8, 4) to (8, 5)\n",
            "\n",
            " \n",
            "\n",
            "[[ 0 -1  0  0  0  0  0 -1  0  0]\n",
            " [ 0 -1  0 -1  0 -1  0 -1  0  0]\n",
            " [ 0  0  0 -1 -1  0  0 -1  0  1]\n",
            " [ 0 -1  0  0 10 -1 -1  0 -1  0]\n",
            " [-1  0  0 -1  0  0 -1  0 -1  0]\n",
            " [ 0 -1  0 -1 -1  0  0  0  2  0]\n",
            " [ 0 -1  0  0  0 -1  0 -1 -1  0]\n",
            " [ 0  0  0  0  0  0  0  0  0  0]\n",
            " [-1  0 -1  0  0  1  0 -1  0 -1]\n",
            " [ 0  0  0 -1  0  0  0 -1  1  0]]\n",
            "Alien moves from (9, 8) to (9, 9)\n",
            "\n",
            " \n",
            "\n",
            "[[ 0 -1  0  0  0  0  0 -1  0  0]\n",
            " [ 0 -1  0 -1  0 -1  0 -1  0  0]\n",
            " [ 0  0  0 -1 -1  0  0 -1  0  1]\n",
            " [ 0 -1  0  0 10 -1 -1  0 -1  0]\n",
            " [-1  0  0 -1  0  0 -1  0 -1  0]\n",
            " [ 0 -1  0 -1 -1  0  0  2  0  0]\n",
            " [ 0 -1  0  0  0 -1  0 -1 -1  0]\n",
            " [ 0  0  0  0  0  0  0  0  0  0]\n",
            " [-1  0 -1  0  0  1  0 -1  0 -1]\n",
            " [ 0  0  0 -1  0  0  0 -1  0  1]]\n",
            "Alien moves from (9, 9) to (8, 9)\n",
            "\n",
            " \n",
            "\n",
            "[[ 0 -1  0  0  0  0  0 -1  0  0]\n",
            " [ 0 -1  0 -1  0 -1  0 -1  0  0]\n",
            " [ 0  0  0 -1 -1  0  0 -1  0  1]\n",
            " [ 0 -1  0  0 10 -1 -1  0 -1  0]\n",
            " [-1  0  0 -1  0  0 -1  0 -1  0]\n",
            " [ 0 -1  0 -1 -1  0  2  0  0  0]\n",
            " [ 0 -1  0  0  0 -1  0 -1 -1  0]\n",
            " [ 0  0  0  0  0  0  0  0  0  0]\n",
            " [-1  0 -1  0  0  1  0 -1  0  1]\n",
            " [ 0  0  0 -1  0  0  0 -1  0  0]]\n",
            "Alien moves from (6, 9) to (5, 9)\n",
            "\n",
            " \n",
            "\n",
            "[[ 0 -1  0  0  0  0  0 -1  0  0]\n",
            " [ 0 -1  0 -1  0 -1  0 -1  0  0]\n",
            " [ 0  0  0 -1 -1  0  0 -1  0  1]\n",
            " [ 0 -1  0  0 10 -1 -1  0 -1  0]\n",
            " [-1  0  0 -1  0  0 -1  0 -1  0]\n",
            " [ 0 -1  0 -1 -1  2  0  0  0  1]\n",
            " [ 0 -1  0  0  0 -1  0 -1 -1  0]\n",
            " [ 0  0  0  0  0  0  0  0  0  0]\n",
            " [-1  0 -1  0  0  1  0 -1  0  1]\n",
            " [ 0  0  0 -1  0  0  0 -1  0  0]]\n",
            "Alien moves from (5, 9) to (6, 9)\n",
            "\n",
            " \n",
            "\n",
            "[[ 0 -1  0  0  0  0  0 -1  0  0]\n",
            " [ 0 -1  0 -1  0 -1  0 -1  0  0]\n",
            " [ 0  0  0 -1 -1  0  0 -1  0  1]\n",
            " [ 0 -1  0  0 10 -1 -1  0 -1  0]\n",
            " [-1  0  0 -1  0  2 -1  0 -1  0]\n",
            " [ 0 -1  0 -1 -1  0  0  0  0  0]\n",
            " [ 0 -1  0  0  0 -1  0 -1 -1  1]\n",
            " [ 0  0  0  0  0  0  0  0  0  0]\n",
            " [-1  0 -1  0  0  1  0 -1  0  1]\n",
            " [ 0  0  0 -1  0  0  0 -1  0  0]]\n",
            "Alien moves from (8, 9) to (9, 9)\n",
            "\n",
            " \n",
            "\n",
            "[[ 0 -1  0  0  0  0  0 -1  0  0]\n",
            " [ 0 -1  0 -1  0 -1  0 -1  0  0]\n",
            " [ 0  0  0 -1 -1  0  0 -1  0  1]\n",
            " [ 0 -1  0  0 10 -1 -1  0 -1  0]\n",
            " [-1  0  0 -1  2  0 -1  0 -1  0]\n",
            " [ 0 -1  0 -1 -1  0  0  0  0  0]\n",
            " [ 0 -1  0  0  0 -1  0 -1 -1  1]\n",
            " [ 0  0  0  0  0  0  0  0  0  0]\n",
            " [-1  0 -1  0  0  1  0 -1  0  0]\n",
            " [ 0  0  0 -1  0  0  0 -1  0  1]]\n",
            "GOAL REACHED\n",
            "[(7, 7), (7, 7), (7, 8), (7, 9), (6, 9), (5, 9), (5, 8), (5, 7), (5, 6), (5, 5), (4, 5), (4, 4)]\n",
            "no of steps taken = 12\n"
          ]
        }
      ]
    },
    {
      "cell_type": "code",
      "source": [
        "print(f\"distance = {np.sqrt((g.start[0] - g.goal[0])**2 + (g.start[1]-g.goal[1])**2)}\")"
      ],
      "metadata": {
        "id": "CI-Q9VJhKUbt",
        "colab": {
          "base_uri": "https://localhost:8080/"
        },
        "outputId": "f230244e-42bf-4702-9de1-402779930842"
      },
      "execution_count": null,
      "outputs": [
        {
          "output_type": "stream",
          "name": "stdout",
          "text": [
            "distance = 5.0\n"
          ]
        }
      ]
    },
    {
      "cell_type": "code",
      "source": [
        "b2 = Bot2(g.grid.copy(),g.start,g.goal,g.alien_cells)\n",
        "print(f\"start = {g.start} goal = {g.goal}\")\n",
        "g.show_grid()"
      ],
      "metadata": {
        "id": "eV8No-b4KUYl",
        "colab": {
          "base_uri": "https://localhost:8080/"
        },
        "outputId": "be37aa30-012d-444b-8986-84cea28d6751"
      },
      "execution_count": null,
      "outputs": [
        {
          "output_type": "stream",
          "name": "stdout",
          "text": [
            "start = (7, 7) goal = (3, 4)\n",
            "[[ 0 -1  0  0  0  0  0 -1  0  0]\n",
            " [ 0 -1  0 -1  0 -1  0 -1  1 -1]\n",
            " [ 0  0  0 -1 -1  0  0 -1  0  0]\n",
            " [ 0 -1  0  0 10 -1 -1  0 -1  0]\n",
            " [-1  0  0 -1  0  0 -1  0 -1  1]\n",
            " [ 0 -1  0 -1 -1  0  0  0  0  0]\n",
            " [ 0 -1  0  0  0 -1  0 -1 -1  1]\n",
            " [ 0  0  0 -1  0  0 -1  2  0  0]\n",
            " [-1  0 -1  0  0 -1  0 -1  0 -1]\n",
            " [ 0  0  0 -1  1  0  0 -1  0  1]]\n"
          ]
        }
      ]
    },
    {
      "cell_type": "code",
      "source": [
        "b2.start_rescue()\n",
        "b2.path"
      ],
      "metadata": {
        "id": "x-ZyfAfBKUVW",
        "colab": {
          "base_uri": "https://localhost:8080/"
        },
        "outputId": "c3e56f26-e9a1-4759-a156-912732b73664"
      },
      "execution_count": null,
      "outputs": [
        {
          "output_type": "stream",
          "name": "stdout",
          "text": [
            "[[ 0 -1  0  0  0  0  0 -1  0  0]\n",
            " [ 0 -1  0 -1  0 -1  0 -1  1 -1]\n",
            " [ 0  0  0 -1 -1  0  0 -1  0  0]\n",
            " [ 0 -1  0  0 10 -1 -1  0 -1  0]\n",
            " [-1  0  0 -1  0  0 -1  0 -1  1]\n",
            " [ 0 -1  0 -1 -1  0  0  0  0  0]\n",
            " [ 0 -1  0  0  0 -1  0 -1 -1  1]\n",
            " [ 0  0  0 -1  0  0 -1  2  0  0]\n",
            " [-1  0 -1  0  0 -1  0 -1  0 -1]\n",
            " [ 0  0  0 -1  1  0  0 -1  0  1]]\n",
            "Bot is stuck\n",
            "no.of steps taken = 1 + 100 idle steps\n",
            "[(7, 7)]\n",
            "no of steps taken = 1\n"
          ]
        }
      ]
    },
    {
      "cell_type": "code",
      "source": [],
      "metadata": {
        "id": "IaMYXqBIKUSH"
      },
      "execution_count": null,
      "outputs": []
    },
    {
      "cell_type": "code",
      "source": [
        "# everything works from here till bot 1 implementation"
      ],
      "metadata": {
        "id": "IXb96AnuKUOf"
      },
      "execution_count": null,
      "outputs": []
    }
  ]
}